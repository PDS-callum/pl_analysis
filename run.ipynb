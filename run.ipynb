{
 "cells": [
  {
   "cell_type": "code",
   "execution_count": 46,
   "metadata": {},
   "outputs": [],
   "source": [
    "# Import libraries\n",
    "import requests\n",
    "import pandas as pd\n",
    "import sqlite3\n",
    "import matplotlib.pyplot as plt\n",
    "import plotly.graph_objects as go\n",
    "import numpy as np\n",
    "import random"
   ]
  },
  {
   "cell_type": "code",
   "execution_count": 47,
   "metadata": {},
   "outputs": [],
   "source": [
    "def df_to_db(df,database_file,table_name):\n",
    "  conn = sqlite3.connect(database_file)\n",
    "  df.to_sql(table_name, conn, if_exists='replace')\n",
    "  conn.close()\n",
    "\n",
    "def get_data(base_url,endpoint):\n",
    "  url = f\"{base_url}/{endpoint}\"\n",
    "  response = requests.get(url)\n",
    "  return response.json()\n",
    "\n",
    "def create_database(database_file):\n",
    "  # Connect to the database (creates the file if it doesn't exist)\n",
    "  conn = sqlite3.connect(database_file)\n",
    "\n",
    "  # Close the connection (optional, but good practice)\n",
    "  conn.close()\n",
    "\n",
    "def id_to_name(x,df,name_col:str=\"player_name\"):\n",
    "  return df.query(\"entry == @x\")[name_col].values[0]\n",
    "\n",
    "def plot_timeseries(df,team_data_df):\n",
    "  fig = go.Figure()\n",
    "  for col in df:\n",
    "    fig.add_trace(go.Scatter(\n",
    "      y=df[col],\n",
    "      name=id_to_name(col,team_data_df)\n",
    "    ))\n",
    "  fig.show()\n",
    "\n",
    "def generate_hex_color(num_colors):\n",
    "  \"\"\"\n",
    "  Generates a list of random hexadecimal color codes.\n",
    "\n",
    "  Args:\n",
    "    num_colors: The number of colors to generate.\n",
    "\n",
    "  Returns:\n",
    "    A list of hexadecimal color codes (strings).\n",
    "  \"\"\"\n",
    "  color_list = []\n",
    "  for _ in range(num_colors):\n",
    "    hex_code = \"#\" + ''.join([random.choice('0123456789ABCDEF') for _ in range(6)])\n",
    "    color_list.append(hex_code)\n",
    "  return color_list\n",
    "\n",
    "def plot_timeseries_bar_by_gw(df:pd.DataFrame,colour_dict:dict,team_data_df):\n",
    "  df = df.copy()\n",
    "  df.columns = [id_to_name(col,team_data_df) for col in df.columns]\n",
    "  df = df.T\n",
    "\n",
    "  # Create figure\n",
    "  fig = go.Figure()\n",
    "\n",
    "  # Add traces, one for each slider step\n",
    "  for i in df.columns:\n",
    "    fig.add_trace(\n",
    "      go.Bar(\n",
    "        visible=False,\n",
    "        x=df[i].sort_values(),\n",
    "        y=df[i].sort_values().index,\n",
    "        orientation='h',\n",
    "        marker_color=[colour_dict[y] for y in df[i].sort_values().index]\n",
    "        ))\n",
    "\n",
    "  # Make first trace visible\n",
    "  fig.data[0].visible = True\n",
    "\n",
    "  # Create and add slider\n",
    "  steps = []\n",
    "  for i in range(len(fig.data)):\n",
    "    step = dict(\n",
    "      method=\"update\",\n",
    "      args=[{\"visible\": [False] * len(fig.data)},\n",
    "      {\"title\": \"Total by week: \" + str(i+1)}],  # layout attribute\n",
    "      )\n",
    "    step[\"args\"][0][\"visible\"][i] = True  # Toggle i'th trace to \"visible\"\n",
    "    steps.append(step)\n",
    "\n",
    "  sliders = [dict(\n",
    "    active=0,\n",
    "    currentvalue={\"prefix\": \"GW: \"},\n",
    "    pad={\"t\": 50},\n",
    "    steps=steps\n",
    "  )]\n",
    "\n",
    "  fig.update_layout(\n",
    "    sliders=sliders\n",
    "  )\n",
    "\n",
    "  fig.show()\n",
    "\n",
    "def get_timeseries(data,prop):\n",
    "  df = pd.DataFrame()\n",
    "  for id in data.keys():\n",
    "    df[id] = [data[id][\"current\"][i][prop] for i in range(len(data[id][\"current\"]))]\n",
    "  df[\"gw\"] = list(range(1,len(df)+1))\n",
    "  df = df.set_index(\"gw\")\n",
    "  return df\n",
    "\n",
    "def get_weeks_first_last(df):\n",
    "  first = []\n",
    "  last = []\n",
    "  for col in df.columns:\n",
    "    first.append(df.index[(list(df[col].values).index(df[col].max()))])\n",
    "    last.append(df.index[(list(df[col].values).index(df[col].min()))])\n",
    "  df_out = pd.DataFrame(\n",
    "    {\n",
    "      \"entry\":list(df.index.values),\n",
    "      \"weeks_first\":[first.count(x) for x in df.index.values],\n",
    "      \"weeks_last\":[last.count(x) for x in df.index.values]\n",
    "    }\n",
    "  )\n",
    "  return df_out"
   ]
  },
  {
   "cell_type": "code",
   "execution_count": 48,
   "metadata": {},
   "outputs": [],
   "source": [
    "# Replace with your league ID\n",
    "league_id = 1642687\n",
    "\n",
    "# Base URL for the API\n",
    "base_url = \"https://fantasy.premierleague.com/api\"\n",
    "\n",
    "# The total number of gameweeks played\n",
    "total_gameweeks = 33\n",
    "\n",
    "# Define the database filename (replace 'my_database.db' with your desired name)\n",
    "database_file = 'pl_data.db'\n",
    "create_database(database_file)"
   ]
  },
  {
   "cell_type": "code",
   "execution_count": 49,
   "metadata": {},
   "outputs": [
    {
     "data": {
      "text/html": [
       "<div>\n",
       "<style scoped>\n",
       "    .dataframe tbody tr th:only-of-type {\n",
       "        vertical-align: middle;\n",
       "    }\n",
       "\n",
       "    .dataframe tbody tr th {\n",
       "        vertical-align: top;\n",
       "    }\n",
       "\n",
       "    .dataframe thead th {\n",
       "        text-align: right;\n",
       "    }\n",
       "</style>\n",
       "<table border=\"1\" class=\"dataframe\">\n",
       "  <thead>\n",
       "    <tr style=\"text-align: right;\">\n",
       "      <th></th>\n",
       "      <th>id</th>\n",
       "      <th>event_total</th>\n",
       "      <th>player_name</th>\n",
       "      <th>rank</th>\n",
       "      <th>last_rank</th>\n",
       "      <th>rank_sort</th>\n",
       "      <th>total</th>\n",
       "      <th>entry</th>\n",
       "      <th>entry_name</th>\n",
       "      <th>first_name</th>\n",
       "      <th>last_name</th>\n",
       "    </tr>\n",
       "  </thead>\n",
       "  <tbody>\n",
       "    <tr>\n",
       "      <th>0</th>\n",
       "      <td>61199436</td>\n",
       "      <td>39</td>\n",
       "      <td>Louis Holmes</td>\n",
       "      <td>1</td>\n",
       "      <td>1</td>\n",
       "      <td>1</td>\n",
       "      <td>1813</td>\n",
       "      <td>7331837</td>\n",
       "      <td>Lou Lou's Big Boys</td>\n",
       "      <td>Louis</td>\n",
       "      <td>Holmes</td>\n",
       "    </tr>\n",
       "    <tr>\n",
       "      <th>1</th>\n",
       "      <td>59942998</td>\n",
       "      <td>39</td>\n",
       "      <td>Oliver Chapman</td>\n",
       "      <td>2</td>\n",
       "      <td>2</td>\n",
       "      <td>2</td>\n",
       "      <td>1758</td>\n",
       "      <td>7204779</td>\n",
       "      <td>Geriatric FC</td>\n",
       "      <td>Oliver</td>\n",
       "      <td>Chapman</td>\n",
       "    </tr>\n",
       "    <tr>\n",
       "      <th>2</th>\n",
       "      <td>87205312</td>\n",
       "      <td>50</td>\n",
       "      <td>Harry Wilson</td>\n",
       "      <td>3</td>\n",
       "      <td>3</td>\n",
       "      <td>3</td>\n",
       "      <td>1745</td>\n",
       "      <td>5853213</td>\n",
       "      <td>Show me the Mané</td>\n",
       "      <td>Harry</td>\n",
       "      <td>Wilson</td>\n",
       "    </tr>\n",
       "    <tr>\n",
       "      <th>3</th>\n",
       "      <td>65638775</td>\n",
       "      <td>45</td>\n",
       "      <td>Sebastian H</td>\n",
       "      <td>4</td>\n",
       "      <td>4</td>\n",
       "      <td>4</td>\n",
       "      <td>1714</td>\n",
       "      <td>7759705</td>\n",
       "      <td>Übermenschen</td>\n",
       "      <td>Sebastian</td>\n",
       "      <td>H</td>\n",
       "    </tr>\n",
       "    <tr>\n",
       "      <th>4</th>\n",
       "      <td>63565261</td>\n",
       "      <td>50</td>\n",
       "      <td>Matt Johnson</td>\n",
       "      <td>5</td>\n",
       "      <td>5</td>\n",
       "      <td>5</td>\n",
       "      <td>1706</td>\n",
       "      <td>7551301</td>\n",
       "      <td>1 Pound Fishermen</td>\n",
       "      <td>Matt</td>\n",
       "      <td>Johnson</td>\n",
       "    </tr>\n",
       "    <tr>\n",
       "      <th>5</th>\n",
       "      <td>60163544</td>\n",
       "      <td>54</td>\n",
       "      <td>Joseph Barry-Shaw</td>\n",
       "      <td>6</td>\n",
       "      <td>6</td>\n",
       "      <td>6</td>\n",
       "      <td>1688</td>\n",
       "      <td>7228926</td>\n",
       "      <td>Last Place FC</td>\n",
       "      <td>Joseph</td>\n",
       "      <td>Barry-Shaw</td>\n",
       "    </tr>\n",
       "    <tr>\n",
       "      <th>6</th>\n",
       "      <td>60595555</td>\n",
       "      <td>52</td>\n",
       "      <td>Christopher Culpin</td>\n",
       "      <td>7</td>\n",
       "      <td>8</td>\n",
       "      <td>7</td>\n",
       "      <td>1631</td>\n",
       "      <td>7270610</td>\n",
       "      <td>We Cheat FR</td>\n",
       "      <td>Christopher</td>\n",
       "      <td>Culpin</td>\n",
       "    </tr>\n",
       "    <tr>\n",
       "      <th>7</th>\n",
       "      <td>62715982</td>\n",
       "      <td>34</td>\n",
       "      <td>Benjamin Kelly</td>\n",
       "      <td>8</td>\n",
       "      <td>7</td>\n",
       "      <td>8</td>\n",
       "      <td>1621</td>\n",
       "      <td>7481365</td>\n",
       "      <td>MusgysLoser</td>\n",
       "      <td>Benjamin</td>\n",
       "      <td>Kelly</td>\n",
       "    </tr>\n",
       "    <tr>\n",
       "      <th>8</th>\n",
       "      <td>63317631</td>\n",
       "      <td>25</td>\n",
       "      <td>Zak beresford</td>\n",
       "      <td>9</td>\n",
       "      <td>9</td>\n",
       "      <td>9</td>\n",
       "      <td>1588</td>\n",
       "      <td>7539556</td>\n",
       "      <td>RimmiesRus</td>\n",
       "      <td>Zak</td>\n",
       "      <td>beresford</td>\n",
       "    </tr>\n",
       "    <tr>\n",
       "      <th>9</th>\n",
       "      <td>60949807</td>\n",
       "      <td>21</td>\n",
       "      <td>Callum Waller</td>\n",
       "      <td>10</td>\n",
       "      <td>10</td>\n",
       "      <td>10</td>\n",
       "      <td>1510</td>\n",
       "      <td>7307161</td>\n",
       "      <td>HUMP</td>\n",
       "      <td>Callum</td>\n",
       "      <td>Waller</td>\n",
       "    </tr>\n",
       "  </tbody>\n",
       "</table>\n",
       "</div>"
      ],
      "text/plain": [
       "         id  event_total         player_name  rank  last_rank  rank_sort  \\\n",
       "0  61199436           39        Louis Holmes     1          1          1   \n",
       "1  59942998           39      Oliver Chapman     2          2          2   \n",
       "2  87205312           50        Harry Wilson     3          3          3   \n",
       "3  65638775           45         Sebastian H     4          4          4   \n",
       "4  63565261           50        Matt Johnson     5          5          5   \n",
       "5  60163544           54   Joseph Barry-Shaw     6          6          6   \n",
       "6  60595555           52  Christopher Culpin     7          8          7   \n",
       "7  62715982           34      Benjamin Kelly     8          7          8   \n",
       "8  63317631           25       Zak beresford     9          9          9   \n",
       "9  60949807           21       Callum Waller    10         10         10   \n",
       "\n",
       "   total    entry          entry_name   first_name   last_name  \n",
       "0   1813  7331837  Lou Lou's Big Boys        Louis      Holmes  \n",
       "1   1758  7204779        Geriatric FC       Oliver     Chapman  \n",
       "2   1745  5853213    Show me the Mané        Harry      Wilson  \n",
       "3   1714  7759705        Übermenschen    Sebastian           H  \n",
       "4   1706  7551301   1 Pound Fishermen         Matt     Johnson  \n",
       "5   1688  7228926       Last Place FC       Joseph  Barry-Shaw  \n",
       "6   1631  7270610         We Cheat FR  Christopher      Culpin  \n",
       "7   1621  7481365         MusgysLoser     Benjamin       Kelly  \n",
       "8   1588  7539556          RimmiesRus          Zak   beresford  \n",
       "9   1510  7307161                HUMP       Callum      Waller  "
      ]
     },
     "execution_count": 49,
     "metadata": {},
     "output_type": "execute_result"
    }
   ],
   "source": [
    "# Get league standings data\n",
    "entries = {}\n",
    "standings_data = get_data(base_url,f\"leagues-classic/{league_id}/standings\")\n",
    "dfs = []\n",
    "for item in standings_data[\"standings\"][\"results\"]:\n",
    "    dfs.append(pd.DataFrame(item,index=[0]))\n",
    "team_data_df = pd.concat(dfs,ignore_index=True)\n",
    "team_data_df[\"first_name\"] = [x[0] for x in team_data_df.player_name.str.split(\" \")]\n",
    "team_data_df[\"last_name\"] = [x[-1] for x in team_data_df.player_name.str.split(\" \")]\n",
    "df_to_db(team_data_df,\"pl_data.db\",\"player_data\")\n",
    "team_data_df"
   ]
  },
  {
   "cell_type": "code",
   "execution_count": 50,
   "metadata": {},
   "outputs": [],
   "source": [
    "# Example usage:\n",
    "num_colors = 11\n",
    "colors = generate_hex_color(num_colors)\n",
    "colour_dict = {team_data_df.player_name.values[i]:colors[i] for i in range(len(team_data_df.player_name))}"
   ]
  },
  {
   "cell_type": "code",
   "execution_count": 51,
   "metadata": {},
   "outputs": [],
   "source": [
    "team_datas = {}\n",
    "gameweek_totals_df = pd.DataFrame()\n",
    "for team_id in team_data_df.entry:\n",
    "    url = f\"https://fantasy.premierleague.com/api/entry/{team_id}/history/\"\n",
    "    response = requests.get(url)\n",
    "    team_datas[team_id] = response.json()"
   ]
  },
  {
   "cell_type": "code",
   "execution_count": 52,
   "metadata": {},
   "outputs": [],
   "source": [
    "gameweek_totals_df = get_timeseries(team_datas,\"total_points\")\n",
    "df_to_db(gameweek_totals_df,\"pl_data.db\",\"gameweek_running_totals\")\n",
    "\n",
    "gameweek_std_totals_df = gameweek_totals_df.copy()\n",
    "for col in gameweek_std_totals_df:\n",
    "    gameweek_std_totals_df[col] = gameweek_std_totals_df[col]/gameweek_std_totals_df.index\n",
    "\n",
    "gameweek_points_df = get_timeseries(team_datas,\"points\")\n",
    "df_to_db(gameweek_points_df,\"pl_data.db\",\"gameweek_points\")"
   ]
  },
  {
   "cell_type": "code",
   "execution_count": 53,
   "metadata": {},
   "outputs": [
    {
     "data": {
      "application/vnd.plotly.v1+json": {
       "config": {
        "plotlyServerURL": "https://plot.ly"
       },
       "data": [
        {
         "name": "Louis Holmes",
         "type": "scatter",
         "y": [
          62,
          107,
          139,
          200,
          254,
          354,
          412,
          469,
          550,
          620,
          657,
          716,
          773,
          841,
          867,
          910,
          943,
          991,
          1028,
          1104,
          1133,
          1183,
          1262,
          1332,
          1424,
          1453,
          1508,
          1554,
          1570,
          1643,
          1721,
          1774,
          1813
         ]
        },
        {
         "name": "Oliver Chapman",
         "type": "scatter",
         "y": [
          41,
          94,
          128,
          198,
          242,
          288,
          362,
          393,
          463,
          561,
          589,
          649,
          684,
          737,
          778,
          807,
          865,
          923,
          963,
          1040,
          1110,
          1183,
          1263,
          1341,
          1399,
          1436,
          1495,
          1540,
          1550,
          1621,
          1665,
          1719,
          1758
         ]
        },
        {
         "name": "Harry Wilson",
         "type": "scatter",
         "y": [
          71,
          114,
          160,
          234,
          292,
          370,
          404,
          452,
          504,
          554,
          587,
          658,
          726,
          769,
          810,
          833,
          872,
          935,
          973,
          1039,
          1092,
          1148,
          1203,
          1265,
          1335,
          1371,
          1424,
          1473,
          1509,
          1558,
          1626,
          1695,
          1745
         ]
        },
        {
         "name": "Sebastian H",
         "type": "scatter",
         "y": [
          68,
          96,
          121,
          196,
          251,
          304,
          354,
          401,
          452,
          548,
          581,
          646,
          691,
          737,
          789,
          821,
          876,
          924,
          980,
          1032,
          1085,
          1155,
          1197,
          1249,
          1329,
          1360,
          1413,
          1459,
          1478,
          1543,
          1617,
          1675,
          1716
         ]
        },
        {
         "name": "Matt Johnson",
         "type": "scatter",
         "y": [
          61,
          128,
          152,
          226,
          265,
          331,
          396,
          440,
          509,
          581,
          600,
          653,
          694,
          757,
          790,
          828,
          870,
          908,
          954,
          1016,
          1045,
          1126,
          1172,
          1232,
          1288,
          1326,
          1400,
          1453,
          1474,
          1527,
          1556,
          1659,
          1709
         ]
        },
        {
         "name": "Joseph Barry-Shaw",
         "type": "scatter",
         "y": [
          25,
          62,
          94,
          143,
          180,
          237,
          308,
          372,
          437,
          482,
          517,
          557,
          598,
          673,
          714,
          732,
          783,
          824,
          865,
          917,
          959,
          1020,
          1114,
          1188,
          1263,
          1324,
          1406,
          1454,
          1466,
          1522,
          1583,
          1636,
          1690
         ]
        },
        {
         "name": "Christopher Culpin",
         "type": "scatter",
         "y": [
          50,
          101,
          158,
          224,
          268,
          301,
          331,
          378,
          453,
          533,
          578,
          639,
          701,
          734,
          761,
          801,
          834,
          864,
          911,
          953,
          1005,
          1056,
          1110,
          1191,
          1283,
          1322,
          1377,
          1419,
          1420,
          1457,
          1507,
          1579,
          1631
         ]
        },
        {
         "name": "Benjamin Kelly",
         "type": "scatter",
         "y": [
          38,
          80,
          121,
          166,
          211,
          284,
          332,
          380,
          447,
          504,
          544,
          604,
          656,
          716,
          776,
          833,
          876,
          917,
          947,
          1020,
          1043,
          1095,
          1157,
          1217,
          1281,
          1309,
          1366,
          1423,
          1440,
          1497,
          1544,
          1589,
          1623
         ]
        },
        {
         "name": "Zak beresford",
         "type": "scatter",
         "y": [
          76,
          119,
          145,
          209,
          255,
          337,
          341,
          390,
          455,
          520,
          556,
          576,
          625,
          677,
          704,
          723,
          783,
          828,
          865,
          939,
          991,
          1040,
          1092,
          1157,
          1229,
          1261,
          1309,
          1367,
          1372,
          1433,
          1502,
          1563,
          1588
         ]
        },
        {
         "name": "Callum Waller",
         "type": "scatter",
         "y": [
          56,
          100,
          151,
          237,
          277,
          323,
          367,
          409,
          444,
          538,
          561,
          620,
          658,
          694,
          721,
          741,
          773,
          809,
          862,
          909,
          952,
          994,
          1030,
          1086,
          1145,
          1192,
          1259,
          1304,
          1320,
          1379,
          1421,
          1490,
          1511
         ]
        }
       ],
       "layout": {
        "template": {
         "data": {
          "bar": [
           {
            "error_x": {
             "color": "#2a3f5f"
            },
            "error_y": {
             "color": "#2a3f5f"
            },
            "marker": {
             "line": {
              "color": "#E5ECF6",
              "width": 0.5
             },
             "pattern": {
              "fillmode": "overlay",
              "size": 10,
              "solidity": 0.2
             }
            },
            "type": "bar"
           }
          ],
          "barpolar": [
           {
            "marker": {
             "line": {
              "color": "#E5ECF6",
              "width": 0.5
             },
             "pattern": {
              "fillmode": "overlay",
              "size": 10,
              "solidity": 0.2
             }
            },
            "type": "barpolar"
           }
          ],
          "carpet": [
           {
            "aaxis": {
             "endlinecolor": "#2a3f5f",
             "gridcolor": "white",
             "linecolor": "white",
             "minorgridcolor": "white",
             "startlinecolor": "#2a3f5f"
            },
            "baxis": {
             "endlinecolor": "#2a3f5f",
             "gridcolor": "white",
             "linecolor": "white",
             "minorgridcolor": "white",
             "startlinecolor": "#2a3f5f"
            },
            "type": "carpet"
           }
          ],
          "choropleth": [
           {
            "colorbar": {
             "outlinewidth": 0,
             "ticks": ""
            },
            "type": "choropleth"
           }
          ],
          "contour": [
           {
            "colorbar": {
             "outlinewidth": 0,
             "ticks": ""
            },
            "colorscale": [
             [
              0,
              "#0d0887"
             ],
             [
              0.1111111111111111,
              "#46039f"
             ],
             [
              0.2222222222222222,
              "#7201a8"
             ],
             [
              0.3333333333333333,
              "#9c179e"
             ],
             [
              0.4444444444444444,
              "#bd3786"
             ],
             [
              0.5555555555555556,
              "#d8576b"
             ],
             [
              0.6666666666666666,
              "#ed7953"
             ],
             [
              0.7777777777777778,
              "#fb9f3a"
             ],
             [
              0.8888888888888888,
              "#fdca26"
             ],
             [
              1,
              "#f0f921"
             ]
            ],
            "type": "contour"
           }
          ],
          "contourcarpet": [
           {
            "colorbar": {
             "outlinewidth": 0,
             "ticks": ""
            },
            "type": "contourcarpet"
           }
          ],
          "heatmap": [
           {
            "colorbar": {
             "outlinewidth": 0,
             "ticks": ""
            },
            "colorscale": [
             [
              0,
              "#0d0887"
             ],
             [
              0.1111111111111111,
              "#46039f"
             ],
             [
              0.2222222222222222,
              "#7201a8"
             ],
             [
              0.3333333333333333,
              "#9c179e"
             ],
             [
              0.4444444444444444,
              "#bd3786"
             ],
             [
              0.5555555555555556,
              "#d8576b"
             ],
             [
              0.6666666666666666,
              "#ed7953"
             ],
             [
              0.7777777777777778,
              "#fb9f3a"
             ],
             [
              0.8888888888888888,
              "#fdca26"
             ],
             [
              1,
              "#f0f921"
             ]
            ],
            "type": "heatmap"
           }
          ],
          "heatmapgl": [
           {
            "colorbar": {
             "outlinewidth": 0,
             "ticks": ""
            },
            "colorscale": [
             [
              0,
              "#0d0887"
             ],
             [
              0.1111111111111111,
              "#46039f"
             ],
             [
              0.2222222222222222,
              "#7201a8"
             ],
             [
              0.3333333333333333,
              "#9c179e"
             ],
             [
              0.4444444444444444,
              "#bd3786"
             ],
             [
              0.5555555555555556,
              "#d8576b"
             ],
             [
              0.6666666666666666,
              "#ed7953"
             ],
             [
              0.7777777777777778,
              "#fb9f3a"
             ],
             [
              0.8888888888888888,
              "#fdca26"
             ],
             [
              1,
              "#f0f921"
             ]
            ],
            "type": "heatmapgl"
           }
          ],
          "histogram": [
           {
            "marker": {
             "pattern": {
              "fillmode": "overlay",
              "size": 10,
              "solidity": 0.2
             }
            },
            "type": "histogram"
           }
          ],
          "histogram2d": [
           {
            "colorbar": {
             "outlinewidth": 0,
             "ticks": ""
            },
            "colorscale": [
             [
              0,
              "#0d0887"
             ],
             [
              0.1111111111111111,
              "#46039f"
             ],
             [
              0.2222222222222222,
              "#7201a8"
             ],
             [
              0.3333333333333333,
              "#9c179e"
             ],
             [
              0.4444444444444444,
              "#bd3786"
             ],
             [
              0.5555555555555556,
              "#d8576b"
             ],
             [
              0.6666666666666666,
              "#ed7953"
             ],
             [
              0.7777777777777778,
              "#fb9f3a"
             ],
             [
              0.8888888888888888,
              "#fdca26"
             ],
             [
              1,
              "#f0f921"
             ]
            ],
            "type": "histogram2d"
           }
          ],
          "histogram2dcontour": [
           {
            "colorbar": {
             "outlinewidth": 0,
             "ticks": ""
            },
            "colorscale": [
             [
              0,
              "#0d0887"
             ],
             [
              0.1111111111111111,
              "#46039f"
             ],
             [
              0.2222222222222222,
              "#7201a8"
             ],
             [
              0.3333333333333333,
              "#9c179e"
             ],
             [
              0.4444444444444444,
              "#bd3786"
             ],
             [
              0.5555555555555556,
              "#d8576b"
             ],
             [
              0.6666666666666666,
              "#ed7953"
             ],
             [
              0.7777777777777778,
              "#fb9f3a"
             ],
             [
              0.8888888888888888,
              "#fdca26"
             ],
             [
              1,
              "#f0f921"
             ]
            ],
            "type": "histogram2dcontour"
           }
          ],
          "mesh3d": [
           {
            "colorbar": {
             "outlinewidth": 0,
             "ticks": ""
            },
            "type": "mesh3d"
           }
          ],
          "parcoords": [
           {
            "line": {
             "colorbar": {
              "outlinewidth": 0,
              "ticks": ""
             }
            },
            "type": "parcoords"
           }
          ],
          "pie": [
           {
            "automargin": true,
            "type": "pie"
           }
          ],
          "scatter": [
           {
            "fillpattern": {
             "fillmode": "overlay",
             "size": 10,
             "solidity": 0.2
            },
            "type": "scatter"
           }
          ],
          "scatter3d": [
           {
            "line": {
             "colorbar": {
              "outlinewidth": 0,
              "ticks": ""
             }
            },
            "marker": {
             "colorbar": {
              "outlinewidth": 0,
              "ticks": ""
             }
            },
            "type": "scatter3d"
           }
          ],
          "scattercarpet": [
           {
            "marker": {
             "colorbar": {
              "outlinewidth": 0,
              "ticks": ""
             }
            },
            "type": "scattercarpet"
           }
          ],
          "scattergeo": [
           {
            "marker": {
             "colorbar": {
              "outlinewidth": 0,
              "ticks": ""
             }
            },
            "type": "scattergeo"
           }
          ],
          "scattergl": [
           {
            "marker": {
             "colorbar": {
              "outlinewidth": 0,
              "ticks": ""
             }
            },
            "type": "scattergl"
           }
          ],
          "scattermapbox": [
           {
            "marker": {
             "colorbar": {
              "outlinewidth": 0,
              "ticks": ""
             }
            },
            "type": "scattermapbox"
           }
          ],
          "scatterpolar": [
           {
            "marker": {
             "colorbar": {
              "outlinewidth": 0,
              "ticks": ""
             }
            },
            "type": "scatterpolar"
           }
          ],
          "scatterpolargl": [
           {
            "marker": {
             "colorbar": {
              "outlinewidth": 0,
              "ticks": ""
             }
            },
            "type": "scatterpolargl"
           }
          ],
          "scatterternary": [
           {
            "marker": {
             "colorbar": {
              "outlinewidth": 0,
              "ticks": ""
             }
            },
            "type": "scatterternary"
           }
          ],
          "surface": [
           {
            "colorbar": {
             "outlinewidth": 0,
             "ticks": ""
            },
            "colorscale": [
             [
              0,
              "#0d0887"
             ],
             [
              0.1111111111111111,
              "#46039f"
             ],
             [
              0.2222222222222222,
              "#7201a8"
             ],
             [
              0.3333333333333333,
              "#9c179e"
             ],
             [
              0.4444444444444444,
              "#bd3786"
             ],
             [
              0.5555555555555556,
              "#d8576b"
             ],
             [
              0.6666666666666666,
              "#ed7953"
             ],
             [
              0.7777777777777778,
              "#fb9f3a"
             ],
             [
              0.8888888888888888,
              "#fdca26"
             ],
             [
              1,
              "#f0f921"
             ]
            ],
            "type": "surface"
           }
          ],
          "table": [
           {
            "cells": {
             "fill": {
              "color": "#EBF0F8"
             },
             "line": {
              "color": "white"
             }
            },
            "header": {
             "fill": {
              "color": "#C8D4E3"
             },
             "line": {
              "color": "white"
             }
            },
            "type": "table"
           }
          ]
         },
         "layout": {
          "annotationdefaults": {
           "arrowcolor": "#2a3f5f",
           "arrowhead": 0,
           "arrowwidth": 1
          },
          "autotypenumbers": "strict",
          "coloraxis": {
           "colorbar": {
            "outlinewidth": 0,
            "ticks": ""
           }
          },
          "colorscale": {
           "diverging": [
            [
             0,
             "#8e0152"
            ],
            [
             0.1,
             "#c51b7d"
            ],
            [
             0.2,
             "#de77ae"
            ],
            [
             0.3,
             "#f1b6da"
            ],
            [
             0.4,
             "#fde0ef"
            ],
            [
             0.5,
             "#f7f7f7"
            ],
            [
             0.6,
             "#e6f5d0"
            ],
            [
             0.7,
             "#b8e186"
            ],
            [
             0.8,
             "#7fbc41"
            ],
            [
             0.9,
             "#4d9221"
            ],
            [
             1,
             "#276419"
            ]
           ],
           "sequential": [
            [
             0,
             "#0d0887"
            ],
            [
             0.1111111111111111,
             "#46039f"
            ],
            [
             0.2222222222222222,
             "#7201a8"
            ],
            [
             0.3333333333333333,
             "#9c179e"
            ],
            [
             0.4444444444444444,
             "#bd3786"
            ],
            [
             0.5555555555555556,
             "#d8576b"
            ],
            [
             0.6666666666666666,
             "#ed7953"
            ],
            [
             0.7777777777777778,
             "#fb9f3a"
            ],
            [
             0.8888888888888888,
             "#fdca26"
            ],
            [
             1,
             "#f0f921"
            ]
           ],
           "sequentialminus": [
            [
             0,
             "#0d0887"
            ],
            [
             0.1111111111111111,
             "#46039f"
            ],
            [
             0.2222222222222222,
             "#7201a8"
            ],
            [
             0.3333333333333333,
             "#9c179e"
            ],
            [
             0.4444444444444444,
             "#bd3786"
            ],
            [
             0.5555555555555556,
             "#d8576b"
            ],
            [
             0.6666666666666666,
             "#ed7953"
            ],
            [
             0.7777777777777778,
             "#fb9f3a"
            ],
            [
             0.8888888888888888,
             "#fdca26"
            ],
            [
             1,
             "#f0f921"
            ]
           ]
          },
          "colorway": [
           "#636efa",
           "#EF553B",
           "#00cc96",
           "#ab63fa",
           "#FFA15A",
           "#19d3f3",
           "#FF6692",
           "#B6E880",
           "#FF97FF",
           "#FECB52"
          ],
          "font": {
           "color": "#2a3f5f"
          },
          "geo": {
           "bgcolor": "white",
           "lakecolor": "white",
           "landcolor": "#E5ECF6",
           "showlakes": true,
           "showland": true,
           "subunitcolor": "white"
          },
          "hoverlabel": {
           "align": "left"
          },
          "hovermode": "closest",
          "mapbox": {
           "style": "light"
          },
          "paper_bgcolor": "white",
          "plot_bgcolor": "#E5ECF6",
          "polar": {
           "angularaxis": {
            "gridcolor": "white",
            "linecolor": "white",
            "ticks": ""
           },
           "bgcolor": "#E5ECF6",
           "radialaxis": {
            "gridcolor": "white",
            "linecolor": "white",
            "ticks": ""
           }
          },
          "scene": {
           "xaxis": {
            "backgroundcolor": "#E5ECF6",
            "gridcolor": "white",
            "gridwidth": 2,
            "linecolor": "white",
            "showbackground": true,
            "ticks": "",
            "zerolinecolor": "white"
           },
           "yaxis": {
            "backgroundcolor": "#E5ECF6",
            "gridcolor": "white",
            "gridwidth": 2,
            "linecolor": "white",
            "showbackground": true,
            "ticks": "",
            "zerolinecolor": "white"
           },
           "zaxis": {
            "backgroundcolor": "#E5ECF6",
            "gridcolor": "white",
            "gridwidth": 2,
            "linecolor": "white",
            "showbackground": true,
            "ticks": "",
            "zerolinecolor": "white"
           }
          },
          "shapedefaults": {
           "line": {
            "color": "#2a3f5f"
           }
          },
          "ternary": {
           "aaxis": {
            "gridcolor": "white",
            "linecolor": "white",
            "ticks": ""
           },
           "baxis": {
            "gridcolor": "white",
            "linecolor": "white",
            "ticks": ""
           },
           "bgcolor": "#E5ECF6",
           "caxis": {
            "gridcolor": "white",
            "linecolor": "white",
            "ticks": ""
           }
          },
          "title": {
           "x": 0.05
          },
          "xaxis": {
           "automargin": true,
           "gridcolor": "white",
           "linecolor": "white",
           "ticks": "",
           "title": {
            "standoff": 15
           },
           "zerolinecolor": "white",
           "zerolinewidth": 2
          },
          "yaxis": {
           "automargin": true,
           "gridcolor": "white",
           "linecolor": "white",
           "ticks": "",
           "title": {
            "standoff": 15
           },
           "zerolinecolor": "white",
           "zerolinewidth": 2
          }
         }
        }
       }
      }
     },
     "metadata": {},
     "output_type": "display_data"
    }
   ],
   "source": [
    "plot_timeseries(gameweek_totals_df,team_data_df)"
   ]
  },
  {
   "cell_type": "code",
   "execution_count": 54,
   "metadata": {},
   "outputs": [
    {
     "data": {
      "application/vnd.plotly.v1+json": {
       "config": {
        "plotlyServerURL": "https://plot.ly"
       },
       "data": [
        {
         "marker": {
          "color": [
           "#D6C8A3",
           "#497F1D",
           "#2E94B6",
           "#C649F6",
           "#DEC50B",
           "#5281E9",
           "#D90C95",
           "#BD061D",
           "#9CDC23",
           "#98F0FF"
          ]
         },
         "orientation": "h",
         "type": "bar",
         "visible": true,
         "x": [
          25,
          38,
          41,
          50,
          56,
          61,
          62,
          68,
          71,
          76
         ],
         "y": [
          "Joseph Barry-Shaw",
          "Benjamin Kelly",
          "Oliver Chapman",
          "Christopher Culpin",
          "Callum Waller",
          "Matt Johnson",
          "Louis Holmes",
          "Sebastian H",
          "Harry Wilson",
          "Zak beresford"
         ]
        },
        {
         "marker": {
          "color": [
           "#D6C8A3",
           "#497F1D",
           "#2E94B6",
           "#BD061D",
           "#DEC50B",
           "#C649F6",
           "#D90C95",
           "#9CDC23",
           "#98F0FF",
           "#5281E9"
          ]
         },
         "orientation": "h",
         "type": "bar",
         "visible": false,
         "x": [
          62,
          80,
          94,
          96,
          100,
          101,
          107,
          114,
          119,
          128
         ],
         "y": [
          "Joseph Barry-Shaw",
          "Benjamin Kelly",
          "Oliver Chapman",
          "Sebastian H",
          "Callum Waller",
          "Christopher Culpin",
          "Louis Holmes",
          "Harry Wilson",
          "Zak beresford",
          "Matt Johnson"
         ]
        },
        {
         "marker": {
          "color": [
           "#D6C8A3",
           "#BD061D",
           "#497F1D",
           "#2E94B6",
           "#D90C95",
           "#98F0FF",
           "#DEC50B",
           "#5281E9",
           "#C649F6",
           "#9CDC23"
          ]
         },
         "orientation": "h",
         "type": "bar",
         "visible": false,
         "x": [
          94,
          121,
          121,
          128,
          139,
          145,
          151,
          152,
          158,
          160
         ],
         "y": [
          "Joseph Barry-Shaw",
          "Sebastian H",
          "Benjamin Kelly",
          "Oliver Chapman",
          "Louis Holmes",
          "Zak beresford",
          "Callum Waller",
          "Matt Johnson",
          "Christopher Culpin",
          "Harry Wilson"
         ]
        },
        {
         "marker": {
          "color": [
           "#D6C8A3",
           "#497F1D",
           "#BD061D",
           "#2E94B6",
           "#D90C95",
           "#98F0FF",
           "#C649F6",
           "#5281E9",
           "#9CDC23",
           "#DEC50B"
          ]
         },
         "orientation": "h",
         "type": "bar",
         "visible": false,
         "x": [
          143,
          166,
          196,
          198,
          200,
          209,
          224,
          226,
          234,
          237
         ],
         "y": [
          "Joseph Barry-Shaw",
          "Benjamin Kelly",
          "Sebastian H",
          "Oliver Chapman",
          "Louis Holmes",
          "Zak beresford",
          "Christopher Culpin",
          "Matt Johnson",
          "Harry Wilson",
          "Callum Waller"
         ]
        },
        {
         "marker": {
          "color": [
           "#D6C8A3",
           "#497F1D",
           "#2E94B6",
           "#BD061D",
           "#D90C95",
           "#98F0FF",
           "#5281E9",
           "#C649F6",
           "#DEC50B",
           "#9CDC23"
          ]
         },
         "orientation": "h",
         "type": "bar",
         "visible": false,
         "x": [
          180,
          211,
          242,
          251,
          254,
          255,
          265,
          268,
          277,
          292
         ],
         "y": [
          "Joseph Barry-Shaw",
          "Benjamin Kelly",
          "Oliver Chapman",
          "Sebastian H",
          "Louis Holmes",
          "Zak beresford",
          "Matt Johnson",
          "Christopher Culpin",
          "Callum Waller",
          "Harry Wilson"
         ]
        },
        {
         "marker": {
          "color": [
           "#D6C8A3",
           "#497F1D",
           "#2E94B6",
           "#C649F6",
           "#BD061D",
           "#DEC50B",
           "#5281E9",
           "#98F0FF",
           "#D90C95",
           "#9CDC23"
          ]
         },
         "orientation": "h",
         "type": "bar",
         "visible": false,
         "x": [
          237,
          284,
          288,
          301,
          304,
          323,
          331,
          337,
          354,
          370
         ],
         "y": [
          "Joseph Barry-Shaw",
          "Benjamin Kelly",
          "Oliver Chapman",
          "Christopher Culpin",
          "Sebastian H",
          "Callum Waller",
          "Matt Johnson",
          "Zak beresford",
          "Louis Holmes",
          "Harry Wilson"
         ]
        },
        {
         "marker": {
          "color": [
           "#D6C8A3",
           "#C649F6",
           "#497F1D",
           "#98F0FF",
           "#BD061D",
           "#2E94B6",
           "#DEC50B",
           "#5281E9",
           "#9CDC23",
           "#D90C95"
          ]
         },
         "orientation": "h",
         "type": "bar",
         "visible": false,
         "x": [
          308,
          331,
          332,
          341,
          354,
          362,
          367,
          396,
          404,
          412
         ],
         "y": [
          "Joseph Barry-Shaw",
          "Christopher Culpin",
          "Benjamin Kelly",
          "Zak beresford",
          "Sebastian H",
          "Oliver Chapman",
          "Callum Waller",
          "Matt Johnson",
          "Harry Wilson",
          "Louis Holmes"
         ]
        },
        {
         "marker": {
          "color": [
           "#D6C8A3",
           "#C649F6",
           "#497F1D",
           "#98F0FF",
           "#2E94B6",
           "#BD061D",
           "#DEC50B",
           "#5281E9",
           "#9CDC23",
           "#D90C95"
          ]
         },
         "orientation": "h",
         "type": "bar",
         "visible": false,
         "x": [
          372,
          378,
          380,
          390,
          393,
          401,
          409,
          440,
          452,
          469
         ],
         "y": [
          "Joseph Barry-Shaw",
          "Christopher Culpin",
          "Benjamin Kelly",
          "Zak beresford",
          "Oliver Chapman",
          "Sebastian H",
          "Callum Waller",
          "Matt Johnson",
          "Harry Wilson",
          "Louis Holmes"
         ]
        },
        {
         "marker": {
          "color": [
           "#D6C8A3",
           "#DEC50B",
           "#497F1D",
           "#BD061D",
           "#C649F6",
           "#98F0FF",
           "#2E94B6",
           "#9CDC23",
           "#5281E9",
           "#D90C95"
          ]
         },
         "orientation": "h",
         "type": "bar",
         "visible": false,
         "x": [
          437,
          444,
          447,
          452,
          453,
          455,
          463,
          504,
          509,
          550
         ],
         "y": [
          "Joseph Barry-Shaw",
          "Callum Waller",
          "Benjamin Kelly",
          "Sebastian H",
          "Christopher Culpin",
          "Zak beresford",
          "Oliver Chapman",
          "Harry Wilson",
          "Matt Johnson",
          "Louis Holmes"
         ]
        },
        {
         "marker": {
          "color": [
           "#D6C8A3",
           "#497F1D",
           "#98F0FF",
           "#C649F6",
           "#DEC50B",
           "#BD061D",
           "#9CDC23",
           "#2E94B6",
           "#5281E9",
           "#D90C95"
          ]
         },
         "orientation": "h",
         "type": "bar",
         "visible": false,
         "x": [
          482,
          504,
          520,
          533,
          538,
          548,
          554,
          561,
          581,
          620
         ],
         "y": [
          "Joseph Barry-Shaw",
          "Benjamin Kelly",
          "Zak beresford",
          "Christopher Culpin",
          "Callum Waller",
          "Sebastian H",
          "Harry Wilson",
          "Oliver Chapman",
          "Matt Johnson",
          "Louis Holmes"
         ]
        },
        {
         "marker": {
          "color": [
           "#D6C8A3",
           "#497F1D",
           "#98F0FF",
           "#DEC50B",
           "#C649F6",
           "#BD061D",
           "#9CDC23",
           "#2E94B6",
           "#5281E9",
           "#D90C95"
          ]
         },
         "orientation": "h",
         "type": "bar",
         "visible": false,
         "x": [
          517,
          544,
          556,
          561,
          578,
          581,
          587,
          589,
          600,
          657
         ],
         "y": [
          "Joseph Barry-Shaw",
          "Benjamin Kelly",
          "Zak beresford",
          "Callum Waller",
          "Christopher Culpin",
          "Sebastian H",
          "Harry Wilson",
          "Oliver Chapman",
          "Matt Johnson",
          "Louis Holmes"
         ]
        },
        {
         "marker": {
          "color": [
           "#D6C8A3",
           "#98F0FF",
           "#497F1D",
           "#DEC50B",
           "#C649F6",
           "#BD061D",
           "#2E94B6",
           "#5281E9",
           "#9CDC23",
           "#D90C95"
          ]
         },
         "orientation": "h",
         "type": "bar",
         "visible": false,
         "x": [
          557,
          576,
          604,
          620,
          639,
          646,
          649,
          653,
          658,
          716
         ],
         "y": [
          "Joseph Barry-Shaw",
          "Zak beresford",
          "Benjamin Kelly",
          "Callum Waller",
          "Christopher Culpin",
          "Sebastian H",
          "Oliver Chapman",
          "Matt Johnson",
          "Harry Wilson",
          "Louis Holmes"
         ]
        },
        {
         "marker": {
          "color": [
           "#D6C8A3",
           "#98F0FF",
           "#497F1D",
           "#DEC50B",
           "#2E94B6",
           "#BD061D",
           "#5281E9",
           "#C649F6",
           "#9CDC23",
           "#D90C95"
          ]
         },
         "orientation": "h",
         "type": "bar",
         "visible": false,
         "x": [
          598,
          625,
          656,
          658,
          684,
          691,
          694,
          701,
          726,
          773
         ],
         "y": [
          "Joseph Barry-Shaw",
          "Zak beresford",
          "Benjamin Kelly",
          "Callum Waller",
          "Oliver Chapman",
          "Sebastian H",
          "Matt Johnson",
          "Christopher Culpin",
          "Harry Wilson",
          "Louis Holmes"
         ]
        },
        {
         "marker": {
          "color": [
           "#D6C8A3",
           "#98F0FF",
           "#DEC50B",
           "#497F1D",
           "#C649F6",
           "#2E94B6",
           "#BD061D",
           "#5281E9",
           "#9CDC23",
           "#D90C95"
          ]
         },
         "orientation": "h",
         "type": "bar",
         "visible": false,
         "x": [
          673,
          677,
          694,
          716,
          734,
          737,
          737,
          757,
          769,
          841
         ],
         "y": [
          "Joseph Barry-Shaw",
          "Zak beresford",
          "Callum Waller",
          "Benjamin Kelly",
          "Christopher Culpin",
          "Oliver Chapman",
          "Sebastian H",
          "Matt Johnson",
          "Harry Wilson",
          "Louis Holmes"
         ]
        },
        {
         "marker": {
          "color": [
           "#98F0FF",
           "#D6C8A3",
           "#DEC50B",
           "#C649F6",
           "#497F1D",
           "#2E94B6",
           "#BD061D",
           "#5281E9",
           "#9CDC23",
           "#D90C95"
          ]
         },
         "orientation": "h",
         "type": "bar",
         "visible": false,
         "x": [
          704,
          714,
          721,
          761,
          776,
          778,
          789,
          790,
          810,
          867
         ],
         "y": [
          "Zak beresford",
          "Joseph Barry-Shaw",
          "Callum Waller",
          "Christopher Culpin",
          "Benjamin Kelly",
          "Oliver Chapman",
          "Sebastian H",
          "Matt Johnson",
          "Harry Wilson",
          "Louis Holmes"
         ]
        },
        {
         "marker": {
          "color": [
           "#98F0FF",
           "#D6C8A3",
           "#DEC50B",
           "#C649F6",
           "#2E94B6",
           "#BD061D",
           "#5281E9",
           "#9CDC23",
           "#497F1D",
           "#D90C95"
          ]
         },
         "orientation": "h",
         "type": "bar",
         "visible": false,
         "x": [
          723,
          732,
          741,
          801,
          807,
          821,
          828,
          833,
          833,
          910
         ],
         "y": [
          "Zak beresford",
          "Joseph Barry-Shaw",
          "Callum Waller",
          "Christopher Culpin",
          "Oliver Chapman",
          "Sebastian H",
          "Matt Johnson",
          "Harry Wilson",
          "Benjamin Kelly",
          "Louis Holmes"
         ]
        },
        {
         "marker": {
          "color": [
           "#DEC50B",
           "#D6C8A3",
           "#98F0FF",
           "#C649F6",
           "#2E94B6",
           "#5281E9",
           "#9CDC23",
           "#BD061D",
           "#497F1D",
           "#D90C95"
          ]
         },
         "orientation": "h",
         "type": "bar",
         "visible": false,
         "x": [
          773,
          783,
          783,
          834,
          865,
          870,
          872,
          876,
          876,
          943
         ],
         "y": [
          "Callum Waller",
          "Joseph Barry-Shaw",
          "Zak beresford",
          "Christopher Culpin",
          "Oliver Chapman",
          "Matt Johnson",
          "Harry Wilson",
          "Sebastian H",
          "Benjamin Kelly",
          "Louis Holmes"
         ]
        },
        {
         "marker": {
          "color": [
           "#DEC50B",
           "#D6C8A3",
           "#98F0FF",
           "#C649F6",
           "#5281E9",
           "#497F1D",
           "#2E94B6",
           "#BD061D",
           "#9CDC23",
           "#D90C95"
          ]
         },
         "orientation": "h",
         "type": "bar",
         "visible": false,
         "x": [
          809,
          824,
          828,
          864,
          908,
          917,
          923,
          924,
          935,
          991
         ],
         "y": [
          "Callum Waller",
          "Joseph Barry-Shaw",
          "Zak beresford",
          "Christopher Culpin",
          "Matt Johnson",
          "Benjamin Kelly",
          "Oliver Chapman",
          "Sebastian H",
          "Harry Wilson",
          "Louis Holmes"
         ]
        },
        {
         "marker": {
          "color": [
           "#DEC50B",
           "#D6C8A3",
           "#98F0FF",
           "#C649F6",
           "#497F1D",
           "#5281E9",
           "#2E94B6",
           "#9CDC23",
           "#BD061D",
           "#D90C95"
          ]
         },
         "orientation": "h",
         "type": "bar",
         "visible": false,
         "x": [
          862,
          865,
          865,
          911,
          947,
          954,
          963,
          973,
          980,
          1028
         ],
         "y": [
          "Callum Waller",
          "Joseph Barry-Shaw",
          "Zak beresford",
          "Christopher Culpin",
          "Benjamin Kelly",
          "Matt Johnson",
          "Oliver Chapman",
          "Harry Wilson",
          "Sebastian H",
          "Louis Holmes"
         ]
        },
        {
         "marker": {
          "color": [
           "#DEC50B",
           "#D6C8A3",
           "#98F0FF",
           "#C649F6",
           "#5281E9",
           "#497F1D",
           "#BD061D",
           "#9CDC23",
           "#2E94B6",
           "#D90C95"
          ]
         },
         "orientation": "h",
         "type": "bar",
         "visible": false,
         "x": [
          909,
          917,
          939,
          953,
          1016,
          1020,
          1032,
          1039,
          1040,
          1104
         ],
         "y": [
          "Callum Waller",
          "Joseph Barry-Shaw",
          "Zak beresford",
          "Christopher Culpin",
          "Matt Johnson",
          "Benjamin Kelly",
          "Sebastian H",
          "Harry Wilson",
          "Oliver Chapman",
          "Louis Holmes"
         ]
        },
        {
         "marker": {
          "color": [
           "#DEC50B",
           "#D6C8A3",
           "#98F0FF",
           "#C649F6",
           "#497F1D",
           "#5281E9",
           "#BD061D",
           "#9CDC23",
           "#2E94B6",
           "#D90C95"
          ]
         },
         "orientation": "h",
         "type": "bar",
         "visible": false,
         "x": [
          952,
          959,
          991,
          1005,
          1043,
          1045,
          1085,
          1092,
          1110,
          1133
         ],
         "y": [
          "Callum Waller",
          "Joseph Barry-Shaw",
          "Zak beresford",
          "Christopher Culpin",
          "Benjamin Kelly",
          "Matt Johnson",
          "Sebastian H",
          "Harry Wilson",
          "Oliver Chapman",
          "Louis Holmes"
         ]
        },
        {
         "marker": {
          "color": [
           "#DEC50B",
           "#D6C8A3",
           "#98F0FF",
           "#C649F6",
           "#497F1D",
           "#5281E9",
           "#9CDC23",
           "#BD061D",
           "#D90C95",
           "#2E94B6"
          ]
         },
         "orientation": "h",
         "type": "bar",
         "visible": false,
         "x": [
          994,
          1020,
          1040,
          1056,
          1095,
          1126,
          1148,
          1155,
          1183,
          1183
         ],
         "y": [
          "Callum Waller",
          "Joseph Barry-Shaw",
          "Zak beresford",
          "Christopher Culpin",
          "Benjamin Kelly",
          "Matt Johnson",
          "Harry Wilson",
          "Sebastian H",
          "Louis Holmes",
          "Oliver Chapman"
         ]
        },
        {
         "marker": {
          "color": [
           "#DEC50B",
           "#98F0FF",
           "#C649F6",
           "#D6C8A3",
           "#497F1D",
           "#5281E9",
           "#BD061D",
           "#9CDC23",
           "#D90C95",
           "#2E94B6"
          ]
         },
         "orientation": "h",
         "type": "bar",
         "visible": false,
         "x": [
          1030,
          1092,
          1110,
          1114,
          1157,
          1172,
          1197,
          1203,
          1262,
          1263
         ],
         "y": [
          "Callum Waller",
          "Zak beresford",
          "Christopher Culpin",
          "Joseph Barry-Shaw",
          "Benjamin Kelly",
          "Matt Johnson",
          "Sebastian H",
          "Harry Wilson",
          "Louis Holmes",
          "Oliver Chapman"
         ]
        },
        {
         "marker": {
          "color": [
           "#DEC50B",
           "#98F0FF",
           "#D6C8A3",
           "#C649F6",
           "#497F1D",
           "#5281E9",
           "#BD061D",
           "#9CDC23",
           "#D90C95",
           "#2E94B6"
          ]
         },
         "orientation": "h",
         "type": "bar",
         "visible": false,
         "x": [
          1086,
          1157,
          1188,
          1191,
          1217,
          1232,
          1249,
          1265,
          1332,
          1341
         ],
         "y": [
          "Callum Waller",
          "Zak beresford",
          "Joseph Barry-Shaw",
          "Christopher Culpin",
          "Benjamin Kelly",
          "Matt Johnson",
          "Sebastian H",
          "Harry Wilson",
          "Louis Holmes",
          "Oliver Chapman"
         ]
        },
        {
         "marker": {
          "color": [
           "#DEC50B",
           "#98F0FF",
           "#D6C8A3",
           "#497F1D",
           "#C649F6",
           "#5281E9",
           "#BD061D",
           "#9CDC23",
           "#2E94B6",
           "#D90C95"
          ]
         },
         "orientation": "h",
         "type": "bar",
         "visible": false,
         "x": [
          1145,
          1229,
          1263,
          1281,
          1283,
          1288,
          1329,
          1335,
          1399,
          1424
         ],
         "y": [
          "Callum Waller",
          "Zak beresford",
          "Joseph Barry-Shaw",
          "Benjamin Kelly",
          "Christopher Culpin",
          "Matt Johnson",
          "Sebastian H",
          "Harry Wilson",
          "Oliver Chapman",
          "Louis Holmes"
         ]
        },
        {
         "marker": {
          "color": [
           "#DEC50B",
           "#98F0FF",
           "#497F1D",
           "#C649F6",
           "#D6C8A3",
           "#5281E9",
           "#BD061D",
           "#9CDC23",
           "#2E94B6",
           "#D90C95"
          ]
         },
         "orientation": "h",
         "type": "bar",
         "visible": false,
         "x": [
          1192,
          1261,
          1309,
          1322,
          1324,
          1326,
          1360,
          1371,
          1436,
          1453
         ],
         "y": [
          "Callum Waller",
          "Zak beresford",
          "Benjamin Kelly",
          "Christopher Culpin",
          "Joseph Barry-Shaw",
          "Matt Johnson",
          "Sebastian H",
          "Harry Wilson",
          "Oliver Chapman",
          "Louis Holmes"
         ]
        },
        {
         "marker": {
          "color": [
           "#DEC50B",
           "#98F0FF",
           "#497F1D",
           "#C649F6",
           "#5281E9",
           "#D6C8A3",
           "#BD061D",
           "#9CDC23",
           "#2E94B6",
           "#D90C95"
          ]
         },
         "orientation": "h",
         "type": "bar",
         "visible": false,
         "x": [
          1259,
          1309,
          1366,
          1377,
          1400,
          1406,
          1413,
          1424,
          1495,
          1508
         ],
         "y": [
          "Callum Waller",
          "Zak beresford",
          "Benjamin Kelly",
          "Christopher Culpin",
          "Matt Johnson",
          "Joseph Barry-Shaw",
          "Sebastian H",
          "Harry Wilson",
          "Oliver Chapman",
          "Louis Holmes"
         ]
        },
        {
         "marker": {
          "color": [
           "#DEC50B",
           "#98F0FF",
           "#C649F6",
           "#497F1D",
           "#5281E9",
           "#D6C8A3",
           "#BD061D",
           "#9CDC23",
           "#2E94B6",
           "#D90C95"
          ]
         },
         "orientation": "h",
         "type": "bar",
         "visible": false,
         "x": [
          1304,
          1367,
          1419,
          1423,
          1453,
          1454,
          1459,
          1473,
          1540,
          1554
         ],
         "y": [
          "Callum Waller",
          "Zak beresford",
          "Christopher Culpin",
          "Benjamin Kelly",
          "Matt Johnson",
          "Joseph Barry-Shaw",
          "Sebastian H",
          "Harry Wilson",
          "Oliver Chapman",
          "Louis Holmes"
         ]
        },
        {
         "marker": {
          "color": [
           "#DEC50B",
           "#98F0FF",
           "#C649F6",
           "#497F1D",
           "#D6C8A3",
           "#5281E9",
           "#BD061D",
           "#9CDC23",
           "#2E94B6",
           "#D90C95"
          ]
         },
         "orientation": "h",
         "type": "bar",
         "visible": false,
         "x": [
          1320,
          1372,
          1420,
          1440,
          1466,
          1474,
          1478,
          1509,
          1550,
          1570
         ],
         "y": [
          "Callum Waller",
          "Zak beresford",
          "Christopher Culpin",
          "Benjamin Kelly",
          "Joseph Barry-Shaw",
          "Matt Johnson",
          "Sebastian H",
          "Harry Wilson",
          "Oliver Chapman",
          "Louis Holmes"
         ]
        },
        {
         "marker": {
          "color": [
           "#DEC50B",
           "#98F0FF",
           "#C649F6",
           "#497F1D",
           "#D6C8A3",
           "#5281E9",
           "#BD061D",
           "#9CDC23",
           "#2E94B6",
           "#D90C95"
          ]
         },
         "orientation": "h",
         "type": "bar",
         "visible": false,
         "x": [
          1379,
          1433,
          1457,
          1497,
          1522,
          1527,
          1543,
          1558,
          1621,
          1643
         ],
         "y": [
          "Callum Waller",
          "Zak beresford",
          "Christopher Culpin",
          "Benjamin Kelly",
          "Joseph Barry-Shaw",
          "Matt Johnson",
          "Sebastian H",
          "Harry Wilson",
          "Oliver Chapman",
          "Louis Holmes"
         ]
        },
        {
         "marker": {
          "color": [
           "#DEC50B",
           "#98F0FF",
           "#C649F6",
           "#497F1D",
           "#5281E9",
           "#D6C8A3",
           "#BD061D",
           "#9CDC23",
           "#2E94B6",
           "#D90C95"
          ]
         },
         "orientation": "h",
         "type": "bar",
         "visible": false,
         "x": [
          1421,
          1502,
          1507,
          1544,
          1556,
          1583,
          1617,
          1626,
          1665,
          1721
         ],
         "y": [
          "Callum Waller",
          "Zak beresford",
          "Christopher Culpin",
          "Benjamin Kelly",
          "Matt Johnson",
          "Joseph Barry-Shaw",
          "Sebastian H",
          "Harry Wilson",
          "Oliver Chapman",
          "Louis Holmes"
         ]
        },
        {
         "marker": {
          "color": [
           "#DEC50B",
           "#98F0FF",
           "#C649F6",
           "#497F1D",
           "#D6C8A3",
           "#5281E9",
           "#BD061D",
           "#9CDC23",
           "#2E94B6",
           "#D90C95"
          ]
         },
         "orientation": "h",
         "type": "bar",
         "visible": false,
         "x": [
          1490,
          1563,
          1579,
          1589,
          1636,
          1659,
          1675,
          1695,
          1719,
          1774
         ],
         "y": [
          "Callum Waller",
          "Zak beresford",
          "Christopher Culpin",
          "Benjamin Kelly",
          "Joseph Barry-Shaw",
          "Matt Johnson",
          "Sebastian H",
          "Harry Wilson",
          "Oliver Chapman",
          "Louis Holmes"
         ]
        },
        {
         "marker": {
          "color": [
           "#DEC50B",
           "#98F0FF",
           "#497F1D",
           "#C649F6",
           "#D6C8A3",
           "#5281E9",
           "#BD061D",
           "#9CDC23",
           "#2E94B6",
           "#D90C95"
          ]
         },
         "orientation": "h",
         "type": "bar",
         "visible": false,
         "x": [
          1511,
          1588,
          1623,
          1631,
          1690,
          1709,
          1716,
          1745,
          1758,
          1813
         ],
         "y": [
          "Callum Waller",
          "Zak beresford",
          "Benjamin Kelly",
          "Christopher Culpin",
          "Joseph Barry-Shaw",
          "Matt Johnson",
          "Sebastian H",
          "Harry Wilson",
          "Oliver Chapman",
          "Louis Holmes"
         ]
        }
       ],
       "layout": {
        "sliders": [
         {
          "active": 0,
          "currentvalue": {
           "prefix": "GW: "
          },
          "pad": {
           "t": 50
          },
          "steps": [
           {
            "args": [
             {
              "visible": [
               true,
               false,
               false,
               false,
               false,
               false,
               false,
               false,
               false,
               false,
               false,
               false,
               false,
               false,
               false,
               false,
               false,
               false,
               false,
               false,
               false,
               false,
               false,
               false,
               false,
               false,
               false,
               false,
               false,
               false,
               false,
               false,
               false
              ]
             },
             {
              "title": "Total by week: 1"
             }
            ],
            "method": "update"
           },
           {
            "args": [
             {
              "visible": [
               false,
               true,
               false,
               false,
               false,
               false,
               false,
               false,
               false,
               false,
               false,
               false,
               false,
               false,
               false,
               false,
               false,
               false,
               false,
               false,
               false,
               false,
               false,
               false,
               false,
               false,
               false,
               false,
               false,
               false,
               false,
               false,
               false
              ]
             },
             {
              "title": "Total by week: 2"
             }
            ],
            "method": "update"
           },
           {
            "args": [
             {
              "visible": [
               false,
               false,
               true,
               false,
               false,
               false,
               false,
               false,
               false,
               false,
               false,
               false,
               false,
               false,
               false,
               false,
               false,
               false,
               false,
               false,
               false,
               false,
               false,
               false,
               false,
               false,
               false,
               false,
               false,
               false,
               false,
               false,
               false
              ]
             },
             {
              "title": "Total by week: 3"
             }
            ],
            "method": "update"
           },
           {
            "args": [
             {
              "visible": [
               false,
               false,
               false,
               true,
               false,
               false,
               false,
               false,
               false,
               false,
               false,
               false,
               false,
               false,
               false,
               false,
               false,
               false,
               false,
               false,
               false,
               false,
               false,
               false,
               false,
               false,
               false,
               false,
               false,
               false,
               false,
               false,
               false
              ]
             },
             {
              "title": "Total by week: 4"
             }
            ],
            "method": "update"
           },
           {
            "args": [
             {
              "visible": [
               false,
               false,
               false,
               false,
               true,
               false,
               false,
               false,
               false,
               false,
               false,
               false,
               false,
               false,
               false,
               false,
               false,
               false,
               false,
               false,
               false,
               false,
               false,
               false,
               false,
               false,
               false,
               false,
               false,
               false,
               false,
               false,
               false
              ]
             },
             {
              "title": "Total by week: 5"
             }
            ],
            "method": "update"
           },
           {
            "args": [
             {
              "visible": [
               false,
               false,
               false,
               false,
               false,
               true,
               false,
               false,
               false,
               false,
               false,
               false,
               false,
               false,
               false,
               false,
               false,
               false,
               false,
               false,
               false,
               false,
               false,
               false,
               false,
               false,
               false,
               false,
               false,
               false,
               false,
               false,
               false
              ]
             },
             {
              "title": "Total by week: 6"
             }
            ],
            "method": "update"
           },
           {
            "args": [
             {
              "visible": [
               false,
               false,
               false,
               false,
               false,
               false,
               true,
               false,
               false,
               false,
               false,
               false,
               false,
               false,
               false,
               false,
               false,
               false,
               false,
               false,
               false,
               false,
               false,
               false,
               false,
               false,
               false,
               false,
               false,
               false,
               false,
               false,
               false
              ]
             },
             {
              "title": "Total by week: 7"
             }
            ],
            "method": "update"
           },
           {
            "args": [
             {
              "visible": [
               false,
               false,
               false,
               false,
               false,
               false,
               false,
               true,
               false,
               false,
               false,
               false,
               false,
               false,
               false,
               false,
               false,
               false,
               false,
               false,
               false,
               false,
               false,
               false,
               false,
               false,
               false,
               false,
               false,
               false,
               false,
               false,
               false
              ]
             },
             {
              "title": "Total by week: 8"
             }
            ],
            "method": "update"
           },
           {
            "args": [
             {
              "visible": [
               false,
               false,
               false,
               false,
               false,
               false,
               false,
               false,
               true,
               false,
               false,
               false,
               false,
               false,
               false,
               false,
               false,
               false,
               false,
               false,
               false,
               false,
               false,
               false,
               false,
               false,
               false,
               false,
               false,
               false,
               false,
               false,
               false
              ]
             },
             {
              "title": "Total by week: 9"
             }
            ],
            "method": "update"
           },
           {
            "args": [
             {
              "visible": [
               false,
               false,
               false,
               false,
               false,
               false,
               false,
               false,
               false,
               true,
               false,
               false,
               false,
               false,
               false,
               false,
               false,
               false,
               false,
               false,
               false,
               false,
               false,
               false,
               false,
               false,
               false,
               false,
               false,
               false,
               false,
               false,
               false
              ]
             },
             {
              "title": "Total by week: 10"
             }
            ],
            "method": "update"
           },
           {
            "args": [
             {
              "visible": [
               false,
               false,
               false,
               false,
               false,
               false,
               false,
               false,
               false,
               false,
               true,
               false,
               false,
               false,
               false,
               false,
               false,
               false,
               false,
               false,
               false,
               false,
               false,
               false,
               false,
               false,
               false,
               false,
               false,
               false,
               false,
               false,
               false
              ]
             },
             {
              "title": "Total by week: 11"
             }
            ],
            "method": "update"
           },
           {
            "args": [
             {
              "visible": [
               false,
               false,
               false,
               false,
               false,
               false,
               false,
               false,
               false,
               false,
               false,
               true,
               false,
               false,
               false,
               false,
               false,
               false,
               false,
               false,
               false,
               false,
               false,
               false,
               false,
               false,
               false,
               false,
               false,
               false,
               false,
               false,
               false
              ]
             },
             {
              "title": "Total by week: 12"
             }
            ],
            "method": "update"
           },
           {
            "args": [
             {
              "visible": [
               false,
               false,
               false,
               false,
               false,
               false,
               false,
               false,
               false,
               false,
               false,
               false,
               true,
               false,
               false,
               false,
               false,
               false,
               false,
               false,
               false,
               false,
               false,
               false,
               false,
               false,
               false,
               false,
               false,
               false,
               false,
               false,
               false
              ]
             },
             {
              "title": "Total by week: 13"
             }
            ],
            "method": "update"
           },
           {
            "args": [
             {
              "visible": [
               false,
               false,
               false,
               false,
               false,
               false,
               false,
               false,
               false,
               false,
               false,
               false,
               false,
               true,
               false,
               false,
               false,
               false,
               false,
               false,
               false,
               false,
               false,
               false,
               false,
               false,
               false,
               false,
               false,
               false,
               false,
               false,
               false
              ]
             },
             {
              "title": "Total by week: 14"
             }
            ],
            "method": "update"
           },
           {
            "args": [
             {
              "visible": [
               false,
               false,
               false,
               false,
               false,
               false,
               false,
               false,
               false,
               false,
               false,
               false,
               false,
               false,
               true,
               false,
               false,
               false,
               false,
               false,
               false,
               false,
               false,
               false,
               false,
               false,
               false,
               false,
               false,
               false,
               false,
               false,
               false
              ]
             },
             {
              "title": "Total by week: 15"
             }
            ],
            "method": "update"
           },
           {
            "args": [
             {
              "visible": [
               false,
               false,
               false,
               false,
               false,
               false,
               false,
               false,
               false,
               false,
               false,
               false,
               false,
               false,
               false,
               true,
               false,
               false,
               false,
               false,
               false,
               false,
               false,
               false,
               false,
               false,
               false,
               false,
               false,
               false,
               false,
               false,
               false
              ]
             },
             {
              "title": "Total by week: 16"
             }
            ],
            "method": "update"
           },
           {
            "args": [
             {
              "visible": [
               false,
               false,
               false,
               false,
               false,
               false,
               false,
               false,
               false,
               false,
               false,
               false,
               false,
               false,
               false,
               false,
               true,
               false,
               false,
               false,
               false,
               false,
               false,
               false,
               false,
               false,
               false,
               false,
               false,
               false,
               false,
               false,
               false
              ]
             },
             {
              "title": "Total by week: 17"
             }
            ],
            "method": "update"
           },
           {
            "args": [
             {
              "visible": [
               false,
               false,
               false,
               false,
               false,
               false,
               false,
               false,
               false,
               false,
               false,
               false,
               false,
               false,
               false,
               false,
               false,
               true,
               false,
               false,
               false,
               false,
               false,
               false,
               false,
               false,
               false,
               false,
               false,
               false,
               false,
               false,
               false
              ]
             },
             {
              "title": "Total by week: 18"
             }
            ],
            "method": "update"
           },
           {
            "args": [
             {
              "visible": [
               false,
               false,
               false,
               false,
               false,
               false,
               false,
               false,
               false,
               false,
               false,
               false,
               false,
               false,
               false,
               false,
               false,
               false,
               true,
               false,
               false,
               false,
               false,
               false,
               false,
               false,
               false,
               false,
               false,
               false,
               false,
               false,
               false
              ]
             },
             {
              "title": "Total by week: 19"
             }
            ],
            "method": "update"
           },
           {
            "args": [
             {
              "visible": [
               false,
               false,
               false,
               false,
               false,
               false,
               false,
               false,
               false,
               false,
               false,
               false,
               false,
               false,
               false,
               false,
               false,
               false,
               false,
               true,
               false,
               false,
               false,
               false,
               false,
               false,
               false,
               false,
               false,
               false,
               false,
               false,
               false
              ]
             },
             {
              "title": "Total by week: 20"
             }
            ],
            "method": "update"
           },
           {
            "args": [
             {
              "visible": [
               false,
               false,
               false,
               false,
               false,
               false,
               false,
               false,
               false,
               false,
               false,
               false,
               false,
               false,
               false,
               false,
               false,
               false,
               false,
               false,
               true,
               false,
               false,
               false,
               false,
               false,
               false,
               false,
               false,
               false,
               false,
               false,
               false
              ]
             },
             {
              "title": "Total by week: 21"
             }
            ],
            "method": "update"
           },
           {
            "args": [
             {
              "visible": [
               false,
               false,
               false,
               false,
               false,
               false,
               false,
               false,
               false,
               false,
               false,
               false,
               false,
               false,
               false,
               false,
               false,
               false,
               false,
               false,
               false,
               true,
               false,
               false,
               false,
               false,
               false,
               false,
               false,
               false,
               false,
               false,
               false
              ]
             },
             {
              "title": "Total by week: 22"
             }
            ],
            "method": "update"
           },
           {
            "args": [
             {
              "visible": [
               false,
               false,
               false,
               false,
               false,
               false,
               false,
               false,
               false,
               false,
               false,
               false,
               false,
               false,
               false,
               false,
               false,
               false,
               false,
               false,
               false,
               false,
               true,
               false,
               false,
               false,
               false,
               false,
               false,
               false,
               false,
               false,
               false
              ]
             },
             {
              "title": "Total by week: 23"
             }
            ],
            "method": "update"
           },
           {
            "args": [
             {
              "visible": [
               false,
               false,
               false,
               false,
               false,
               false,
               false,
               false,
               false,
               false,
               false,
               false,
               false,
               false,
               false,
               false,
               false,
               false,
               false,
               false,
               false,
               false,
               false,
               true,
               false,
               false,
               false,
               false,
               false,
               false,
               false,
               false,
               false
              ]
             },
             {
              "title": "Total by week: 24"
             }
            ],
            "method": "update"
           },
           {
            "args": [
             {
              "visible": [
               false,
               false,
               false,
               false,
               false,
               false,
               false,
               false,
               false,
               false,
               false,
               false,
               false,
               false,
               false,
               false,
               false,
               false,
               false,
               false,
               false,
               false,
               false,
               false,
               true,
               false,
               false,
               false,
               false,
               false,
               false,
               false,
               false
              ]
             },
             {
              "title": "Total by week: 25"
             }
            ],
            "method": "update"
           },
           {
            "args": [
             {
              "visible": [
               false,
               false,
               false,
               false,
               false,
               false,
               false,
               false,
               false,
               false,
               false,
               false,
               false,
               false,
               false,
               false,
               false,
               false,
               false,
               false,
               false,
               false,
               false,
               false,
               false,
               true,
               false,
               false,
               false,
               false,
               false,
               false,
               false
              ]
             },
             {
              "title": "Total by week: 26"
             }
            ],
            "method": "update"
           },
           {
            "args": [
             {
              "visible": [
               false,
               false,
               false,
               false,
               false,
               false,
               false,
               false,
               false,
               false,
               false,
               false,
               false,
               false,
               false,
               false,
               false,
               false,
               false,
               false,
               false,
               false,
               false,
               false,
               false,
               false,
               true,
               false,
               false,
               false,
               false,
               false,
               false
              ]
             },
             {
              "title": "Total by week: 27"
             }
            ],
            "method": "update"
           },
           {
            "args": [
             {
              "visible": [
               false,
               false,
               false,
               false,
               false,
               false,
               false,
               false,
               false,
               false,
               false,
               false,
               false,
               false,
               false,
               false,
               false,
               false,
               false,
               false,
               false,
               false,
               false,
               false,
               false,
               false,
               false,
               true,
               false,
               false,
               false,
               false,
               false
              ]
             },
             {
              "title": "Total by week: 28"
             }
            ],
            "method": "update"
           },
           {
            "args": [
             {
              "visible": [
               false,
               false,
               false,
               false,
               false,
               false,
               false,
               false,
               false,
               false,
               false,
               false,
               false,
               false,
               false,
               false,
               false,
               false,
               false,
               false,
               false,
               false,
               false,
               false,
               false,
               false,
               false,
               false,
               true,
               false,
               false,
               false,
               false
              ]
             },
             {
              "title": "Total by week: 29"
             }
            ],
            "method": "update"
           },
           {
            "args": [
             {
              "visible": [
               false,
               false,
               false,
               false,
               false,
               false,
               false,
               false,
               false,
               false,
               false,
               false,
               false,
               false,
               false,
               false,
               false,
               false,
               false,
               false,
               false,
               false,
               false,
               false,
               false,
               false,
               false,
               false,
               false,
               true,
               false,
               false,
               false
              ]
             },
             {
              "title": "Total by week: 30"
             }
            ],
            "method": "update"
           },
           {
            "args": [
             {
              "visible": [
               false,
               false,
               false,
               false,
               false,
               false,
               false,
               false,
               false,
               false,
               false,
               false,
               false,
               false,
               false,
               false,
               false,
               false,
               false,
               false,
               false,
               false,
               false,
               false,
               false,
               false,
               false,
               false,
               false,
               false,
               true,
               false,
               false
              ]
             },
             {
              "title": "Total by week: 31"
             }
            ],
            "method": "update"
           },
           {
            "args": [
             {
              "visible": [
               false,
               false,
               false,
               false,
               false,
               false,
               false,
               false,
               false,
               false,
               false,
               false,
               false,
               false,
               false,
               false,
               false,
               false,
               false,
               false,
               false,
               false,
               false,
               false,
               false,
               false,
               false,
               false,
               false,
               false,
               false,
               true,
               false
              ]
             },
             {
              "title": "Total by week: 32"
             }
            ],
            "method": "update"
           },
           {
            "args": [
             {
              "visible": [
               false,
               false,
               false,
               false,
               false,
               false,
               false,
               false,
               false,
               false,
               false,
               false,
               false,
               false,
               false,
               false,
               false,
               false,
               false,
               false,
               false,
               false,
               false,
               false,
               false,
               false,
               false,
               false,
               false,
               false,
               false,
               false,
               true
              ]
             },
             {
              "title": "Total by week: 33"
             }
            ],
            "method": "update"
           }
          ]
         }
        ],
        "template": {
         "data": {
          "bar": [
           {
            "error_x": {
             "color": "#2a3f5f"
            },
            "error_y": {
             "color": "#2a3f5f"
            },
            "marker": {
             "line": {
              "color": "#E5ECF6",
              "width": 0.5
             },
             "pattern": {
              "fillmode": "overlay",
              "size": 10,
              "solidity": 0.2
             }
            },
            "type": "bar"
           }
          ],
          "barpolar": [
           {
            "marker": {
             "line": {
              "color": "#E5ECF6",
              "width": 0.5
             },
             "pattern": {
              "fillmode": "overlay",
              "size": 10,
              "solidity": 0.2
             }
            },
            "type": "barpolar"
           }
          ],
          "carpet": [
           {
            "aaxis": {
             "endlinecolor": "#2a3f5f",
             "gridcolor": "white",
             "linecolor": "white",
             "minorgridcolor": "white",
             "startlinecolor": "#2a3f5f"
            },
            "baxis": {
             "endlinecolor": "#2a3f5f",
             "gridcolor": "white",
             "linecolor": "white",
             "minorgridcolor": "white",
             "startlinecolor": "#2a3f5f"
            },
            "type": "carpet"
           }
          ],
          "choropleth": [
           {
            "colorbar": {
             "outlinewidth": 0,
             "ticks": ""
            },
            "type": "choropleth"
           }
          ],
          "contour": [
           {
            "colorbar": {
             "outlinewidth": 0,
             "ticks": ""
            },
            "colorscale": [
             [
              0,
              "#0d0887"
             ],
             [
              0.1111111111111111,
              "#46039f"
             ],
             [
              0.2222222222222222,
              "#7201a8"
             ],
             [
              0.3333333333333333,
              "#9c179e"
             ],
             [
              0.4444444444444444,
              "#bd3786"
             ],
             [
              0.5555555555555556,
              "#d8576b"
             ],
             [
              0.6666666666666666,
              "#ed7953"
             ],
             [
              0.7777777777777778,
              "#fb9f3a"
             ],
             [
              0.8888888888888888,
              "#fdca26"
             ],
             [
              1,
              "#f0f921"
             ]
            ],
            "type": "contour"
           }
          ],
          "contourcarpet": [
           {
            "colorbar": {
             "outlinewidth": 0,
             "ticks": ""
            },
            "type": "contourcarpet"
           }
          ],
          "heatmap": [
           {
            "colorbar": {
             "outlinewidth": 0,
             "ticks": ""
            },
            "colorscale": [
             [
              0,
              "#0d0887"
             ],
             [
              0.1111111111111111,
              "#46039f"
             ],
             [
              0.2222222222222222,
              "#7201a8"
             ],
             [
              0.3333333333333333,
              "#9c179e"
             ],
             [
              0.4444444444444444,
              "#bd3786"
             ],
             [
              0.5555555555555556,
              "#d8576b"
             ],
             [
              0.6666666666666666,
              "#ed7953"
             ],
             [
              0.7777777777777778,
              "#fb9f3a"
             ],
             [
              0.8888888888888888,
              "#fdca26"
             ],
             [
              1,
              "#f0f921"
             ]
            ],
            "type": "heatmap"
           }
          ],
          "heatmapgl": [
           {
            "colorbar": {
             "outlinewidth": 0,
             "ticks": ""
            },
            "colorscale": [
             [
              0,
              "#0d0887"
             ],
             [
              0.1111111111111111,
              "#46039f"
             ],
             [
              0.2222222222222222,
              "#7201a8"
             ],
             [
              0.3333333333333333,
              "#9c179e"
             ],
             [
              0.4444444444444444,
              "#bd3786"
             ],
             [
              0.5555555555555556,
              "#d8576b"
             ],
             [
              0.6666666666666666,
              "#ed7953"
             ],
             [
              0.7777777777777778,
              "#fb9f3a"
             ],
             [
              0.8888888888888888,
              "#fdca26"
             ],
             [
              1,
              "#f0f921"
             ]
            ],
            "type": "heatmapgl"
           }
          ],
          "histogram": [
           {
            "marker": {
             "pattern": {
              "fillmode": "overlay",
              "size": 10,
              "solidity": 0.2
             }
            },
            "type": "histogram"
           }
          ],
          "histogram2d": [
           {
            "colorbar": {
             "outlinewidth": 0,
             "ticks": ""
            },
            "colorscale": [
             [
              0,
              "#0d0887"
             ],
             [
              0.1111111111111111,
              "#46039f"
             ],
             [
              0.2222222222222222,
              "#7201a8"
             ],
             [
              0.3333333333333333,
              "#9c179e"
             ],
             [
              0.4444444444444444,
              "#bd3786"
             ],
             [
              0.5555555555555556,
              "#d8576b"
             ],
             [
              0.6666666666666666,
              "#ed7953"
             ],
             [
              0.7777777777777778,
              "#fb9f3a"
             ],
             [
              0.8888888888888888,
              "#fdca26"
             ],
             [
              1,
              "#f0f921"
             ]
            ],
            "type": "histogram2d"
           }
          ],
          "histogram2dcontour": [
           {
            "colorbar": {
             "outlinewidth": 0,
             "ticks": ""
            },
            "colorscale": [
             [
              0,
              "#0d0887"
             ],
             [
              0.1111111111111111,
              "#46039f"
             ],
             [
              0.2222222222222222,
              "#7201a8"
             ],
             [
              0.3333333333333333,
              "#9c179e"
             ],
             [
              0.4444444444444444,
              "#bd3786"
             ],
             [
              0.5555555555555556,
              "#d8576b"
             ],
             [
              0.6666666666666666,
              "#ed7953"
             ],
             [
              0.7777777777777778,
              "#fb9f3a"
             ],
             [
              0.8888888888888888,
              "#fdca26"
             ],
             [
              1,
              "#f0f921"
             ]
            ],
            "type": "histogram2dcontour"
           }
          ],
          "mesh3d": [
           {
            "colorbar": {
             "outlinewidth": 0,
             "ticks": ""
            },
            "type": "mesh3d"
           }
          ],
          "parcoords": [
           {
            "line": {
             "colorbar": {
              "outlinewidth": 0,
              "ticks": ""
             }
            },
            "type": "parcoords"
           }
          ],
          "pie": [
           {
            "automargin": true,
            "type": "pie"
           }
          ],
          "scatter": [
           {
            "fillpattern": {
             "fillmode": "overlay",
             "size": 10,
             "solidity": 0.2
            },
            "type": "scatter"
           }
          ],
          "scatter3d": [
           {
            "line": {
             "colorbar": {
              "outlinewidth": 0,
              "ticks": ""
             }
            },
            "marker": {
             "colorbar": {
              "outlinewidth": 0,
              "ticks": ""
             }
            },
            "type": "scatter3d"
           }
          ],
          "scattercarpet": [
           {
            "marker": {
             "colorbar": {
              "outlinewidth": 0,
              "ticks": ""
             }
            },
            "type": "scattercarpet"
           }
          ],
          "scattergeo": [
           {
            "marker": {
             "colorbar": {
              "outlinewidth": 0,
              "ticks": ""
             }
            },
            "type": "scattergeo"
           }
          ],
          "scattergl": [
           {
            "marker": {
             "colorbar": {
              "outlinewidth": 0,
              "ticks": ""
             }
            },
            "type": "scattergl"
           }
          ],
          "scattermapbox": [
           {
            "marker": {
             "colorbar": {
              "outlinewidth": 0,
              "ticks": ""
             }
            },
            "type": "scattermapbox"
           }
          ],
          "scatterpolar": [
           {
            "marker": {
             "colorbar": {
              "outlinewidth": 0,
              "ticks": ""
             }
            },
            "type": "scatterpolar"
           }
          ],
          "scatterpolargl": [
           {
            "marker": {
             "colorbar": {
              "outlinewidth": 0,
              "ticks": ""
             }
            },
            "type": "scatterpolargl"
           }
          ],
          "scatterternary": [
           {
            "marker": {
             "colorbar": {
              "outlinewidth": 0,
              "ticks": ""
             }
            },
            "type": "scatterternary"
           }
          ],
          "surface": [
           {
            "colorbar": {
             "outlinewidth": 0,
             "ticks": ""
            },
            "colorscale": [
             [
              0,
              "#0d0887"
             ],
             [
              0.1111111111111111,
              "#46039f"
             ],
             [
              0.2222222222222222,
              "#7201a8"
             ],
             [
              0.3333333333333333,
              "#9c179e"
             ],
             [
              0.4444444444444444,
              "#bd3786"
             ],
             [
              0.5555555555555556,
              "#d8576b"
             ],
             [
              0.6666666666666666,
              "#ed7953"
             ],
             [
              0.7777777777777778,
              "#fb9f3a"
             ],
             [
              0.8888888888888888,
              "#fdca26"
             ],
             [
              1,
              "#f0f921"
             ]
            ],
            "type": "surface"
           }
          ],
          "table": [
           {
            "cells": {
             "fill": {
              "color": "#EBF0F8"
             },
             "line": {
              "color": "white"
             }
            },
            "header": {
             "fill": {
              "color": "#C8D4E3"
             },
             "line": {
              "color": "white"
             }
            },
            "type": "table"
           }
          ]
         },
         "layout": {
          "annotationdefaults": {
           "arrowcolor": "#2a3f5f",
           "arrowhead": 0,
           "arrowwidth": 1
          },
          "autotypenumbers": "strict",
          "coloraxis": {
           "colorbar": {
            "outlinewidth": 0,
            "ticks": ""
           }
          },
          "colorscale": {
           "diverging": [
            [
             0,
             "#8e0152"
            ],
            [
             0.1,
             "#c51b7d"
            ],
            [
             0.2,
             "#de77ae"
            ],
            [
             0.3,
             "#f1b6da"
            ],
            [
             0.4,
             "#fde0ef"
            ],
            [
             0.5,
             "#f7f7f7"
            ],
            [
             0.6,
             "#e6f5d0"
            ],
            [
             0.7,
             "#b8e186"
            ],
            [
             0.8,
             "#7fbc41"
            ],
            [
             0.9,
             "#4d9221"
            ],
            [
             1,
             "#276419"
            ]
           ],
           "sequential": [
            [
             0,
             "#0d0887"
            ],
            [
             0.1111111111111111,
             "#46039f"
            ],
            [
             0.2222222222222222,
             "#7201a8"
            ],
            [
             0.3333333333333333,
             "#9c179e"
            ],
            [
             0.4444444444444444,
             "#bd3786"
            ],
            [
             0.5555555555555556,
             "#d8576b"
            ],
            [
             0.6666666666666666,
             "#ed7953"
            ],
            [
             0.7777777777777778,
             "#fb9f3a"
            ],
            [
             0.8888888888888888,
             "#fdca26"
            ],
            [
             1,
             "#f0f921"
            ]
           ],
           "sequentialminus": [
            [
             0,
             "#0d0887"
            ],
            [
             0.1111111111111111,
             "#46039f"
            ],
            [
             0.2222222222222222,
             "#7201a8"
            ],
            [
             0.3333333333333333,
             "#9c179e"
            ],
            [
             0.4444444444444444,
             "#bd3786"
            ],
            [
             0.5555555555555556,
             "#d8576b"
            ],
            [
             0.6666666666666666,
             "#ed7953"
            ],
            [
             0.7777777777777778,
             "#fb9f3a"
            ],
            [
             0.8888888888888888,
             "#fdca26"
            ],
            [
             1,
             "#f0f921"
            ]
           ]
          },
          "colorway": [
           "#636efa",
           "#EF553B",
           "#00cc96",
           "#ab63fa",
           "#FFA15A",
           "#19d3f3",
           "#FF6692",
           "#B6E880",
           "#FF97FF",
           "#FECB52"
          ],
          "font": {
           "color": "#2a3f5f"
          },
          "geo": {
           "bgcolor": "white",
           "lakecolor": "white",
           "landcolor": "#E5ECF6",
           "showlakes": true,
           "showland": true,
           "subunitcolor": "white"
          },
          "hoverlabel": {
           "align": "left"
          },
          "hovermode": "closest",
          "mapbox": {
           "style": "light"
          },
          "paper_bgcolor": "white",
          "plot_bgcolor": "#E5ECF6",
          "polar": {
           "angularaxis": {
            "gridcolor": "white",
            "linecolor": "white",
            "ticks": ""
           },
           "bgcolor": "#E5ECF6",
           "radialaxis": {
            "gridcolor": "white",
            "linecolor": "white",
            "ticks": ""
           }
          },
          "scene": {
           "xaxis": {
            "backgroundcolor": "#E5ECF6",
            "gridcolor": "white",
            "gridwidth": 2,
            "linecolor": "white",
            "showbackground": true,
            "ticks": "",
            "zerolinecolor": "white"
           },
           "yaxis": {
            "backgroundcolor": "#E5ECF6",
            "gridcolor": "white",
            "gridwidth": 2,
            "linecolor": "white",
            "showbackground": true,
            "ticks": "",
            "zerolinecolor": "white"
           },
           "zaxis": {
            "backgroundcolor": "#E5ECF6",
            "gridcolor": "white",
            "gridwidth": 2,
            "linecolor": "white",
            "showbackground": true,
            "ticks": "",
            "zerolinecolor": "white"
           }
          },
          "shapedefaults": {
           "line": {
            "color": "#2a3f5f"
           }
          },
          "ternary": {
           "aaxis": {
            "gridcolor": "white",
            "linecolor": "white",
            "ticks": ""
           },
           "baxis": {
            "gridcolor": "white",
            "linecolor": "white",
            "ticks": ""
           },
           "bgcolor": "#E5ECF6",
           "caxis": {
            "gridcolor": "white",
            "linecolor": "white",
            "ticks": ""
           }
          },
          "title": {
           "x": 0.05
          },
          "xaxis": {
           "automargin": true,
           "gridcolor": "white",
           "linecolor": "white",
           "ticks": "",
           "title": {
            "standoff": 15
           },
           "zerolinecolor": "white",
           "zerolinewidth": 2
          },
          "yaxis": {
           "automargin": true,
           "gridcolor": "white",
           "linecolor": "white",
           "ticks": "",
           "title": {
            "standoff": 15
           },
           "zerolinecolor": "white",
           "zerolinewidth": 2
          }
         }
        }
       }
      }
     },
     "metadata": {},
     "output_type": "display_data"
    }
   ],
   "source": [
    "plot_timeseries_bar_by_gw(gameweek_totals_df,colour_dict,team_data_df)"
   ]
  },
  {
   "cell_type": "code",
   "execution_count": 55,
   "metadata": {},
   "outputs": [
    {
     "data": {
      "application/vnd.plotly.v1+json": {
       "config": {
        "plotlyServerURL": "https://plot.ly"
       },
       "data": [
        {
         "marker": {
          "color": [
           "#D6C8A3",
           "#497F1D",
           "#2E94B6",
           "#C649F6",
           "#DEC50B",
           "#5281E9",
           "#D90C95",
           "#BD061D",
           "#9CDC23",
           "#98F0FF"
          ]
         },
         "orientation": "h",
         "type": "bar",
         "visible": true,
         "x": [
          25,
          38,
          41,
          50,
          56,
          61,
          62,
          68,
          71,
          76
         ],
         "y": [
          "Joseph Barry-Shaw",
          "Benjamin Kelly",
          "Oliver Chapman",
          "Christopher Culpin",
          "Callum Waller",
          "Matt Johnson",
          "Louis Holmes",
          "Sebastian H",
          "Harry Wilson",
          "Zak beresford"
         ]
        },
        {
         "marker": {
          "color": [
           "#BD061D",
           "#9CDC23",
           "#98F0FF",
           "#DEC50B",
           "#D90C95",
           "#D6C8A3",
           "#497F1D",
           "#C649F6",
           "#2E94B6",
           "#5281E9"
          ]
         },
         "orientation": "h",
         "type": "bar",
         "visible": false,
         "x": [
          28,
          43,
          43,
          44,
          45,
          45,
          46,
          51,
          53,
          67
         ],
         "y": [
          "Sebastian H",
          "Harry Wilson",
          "Zak beresford",
          "Callum Waller",
          "Louis Holmes",
          "Joseph Barry-Shaw",
          "Benjamin Kelly",
          "Christopher Culpin",
          "Oliver Chapman",
          "Matt Johnson"
         ]
        },
        {
         "marker": {
          "color": [
           "#5281E9",
           "#BD061D",
           "#98F0FF",
           "#D90C95",
           "#D6C8A3",
           "#2E94B6",
           "#497F1D",
           "#9CDC23",
           "#DEC50B",
           "#C649F6"
          ]
         },
         "orientation": "h",
         "type": "bar",
         "visible": false,
         "x": [
          24,
          25,
          26,
          32,
          32,
          34,
          41,
          46,
          51,
          57
         ],
         "y": [
          "Matt Johnson",
          "Sebastian H",
          "Zak beresford",
          "Louis Holmes",
          "Joseph Barry-Shaw",
          "Oliver Chapman",
          "Benjamin Kelly",
          "Harry Wilson",
          "Callum Waller",
          "Christopher Culpin"
         ]
        },
        {
         "marker": {
          "color": [
           "#497F1D",
           "#D6C8A3",
           "#D90C95",
           "#98F0FF",
           "#C649F6",
           "#2E94B6",
           "#9CDC23",
           "#5281E9",
           "#BD061D",
           "#DEC50B"
          ]
         },
         "orientation": "h",
         "type": "bar",
         "visible": false,
         "x": [
          45,
          49,
          61,
          64,
          66,
          70,
          74,
          74,
          75,
          86
         ],
         "y": [
          "Benjamin Kelly",
          "Joseph Barry-Shaw",
          "Louis Holmes",
          "Zak beresford",
          "Christopher Culpin",
          "Oliver Chapman",
          "Harry Wilson",
          "Matt Johnson",
          "Sebastian H",
          "Callum Waller"
         ]
        },
        {
         "marker": {
          "color": [
           "#D6C8A3",
           "#5281E9",
           "#DEC50B",
           "#2E94B6",
           "#C649F6",
           "#497F1D",
           "#98F0FF",
           "#D90C95",
           "#BD061D",
           "#9CDC23"
          ]
         },
         "orientation": "h",
         "type": "bar",
         "visible": false,
         "x": [
          37,
          39,
          40,
          44,
          44,
          45,
          46,
          54,
          55,
          58
         ],
         "y": [
          "Joseph Barry-Shaw",
          "Matt Johnson",
          "Callum Waller",
          "Oliver Chapman",
          "Christopher Culpin",
          "Benjamin Kelly",
          "Zak beresford",
          "Louis Holmes",
          "Sebastian H",
          "Harry Wilson"
         ]
        },
        {
         "marker": {
          "color": [
           "#C649F6",
           "#2E94B6",
           "#DEC50B",
           "#BD061D",
           "#D6C8A3",
           "#5281E9",
           "#497F1D",
           "#9CDC23",
           "#98F0FF",
           "#D90C95"
          ]
         },
         "orientation": "h",
         "type": "bar",
         "visible": false,
         "x": [
          33,
          46,
          46,
          53,
          57,
          66,
          73,
          78,
          82,
          100
         ],
         "y": [
          "Christopher Culpin",
          "Oliver Chapman",
          "Callum Waller",
          "Sebastian H",
          "Joseph Barry-Shaw",
          "Matt Johnson",
          "Benjamin Kelly",
          "Harry Wilson",
          "Zak beresford",
          "Louis Holmes"
         ]
        },
        {
         "marker": {
          "color": [
           "#98F0FF",
           "#C649F6",
           "#9CDC23",
           "#DEC50B",
           "#497F1D",
           "#BD061D",
           "#D90C95",
           "#5281E9",
           "#D6C8A3",
           "#2E94B6"
          ]
         },
         "orientation": "h",
         "type": "bar",
         "visible": false,
         "x": [
          28,
          30,
          34,
          44,
          48,
          50,
          58,
          65,
          71,
          74
         ],
         "y": [
          "Zak beresford",
          "Christopher Culpin",
          "Harry Wilson",
          "Callum Waller",
          "Benjamin Kelly",
          "Sebastian H",
          "Louis Holmes",
          "Matt Johnson",
          "Joseph Barry-Shaw",
          "Oliver Chapman"
         ]
        },
        {
         "marker": {
          "color": [
           "#2E94B6",
           "#DEC50B",
           "#BD061D",
           "#C649F6",
           "#9CDC23",
           "#5281E9",
           "#98F0FF",
           "#497F1D",
           "#D90C95",
           "#D6C8A3"
          ]
         },
         "orientation": "h",
         "type": "bar",
         "visible": false,
         "x": [
          31,
          42,
          47,
          47,
          48,
          48,
          49,
          52,
          57,
          64
         ],
         "y": [
          "Oliver Chapman",
          "Callum Waller",
          "Sebastian H",
          "Christopher Culpin",
          "Harry Wilson",
          "Matt Johnson",
          "Zak beresford",
          "Benjamin Kelly",
          "Louis Holmes",
          "Joseph Barry-Shaw"
         ]
        },
        {
         "marker": {
          "color": [
           "#DEC50B",
           "#BD061D",
           "#9CDC23",
           "#D6C8A3",
           "#98F0FF",
           "#497F1D",
           "#5281E9",
           "#2E94B6",
           "#C649F6",
           "#D90C95"
          ]
         },
         "orientation": "h",
         "type": "bar",
         "visible": false,
         "x": [
          35,
          51,
          52,
          65,
          65,
          67,
          69,
          70,
          75,
          85
         ],
         "y": [
          "Callum Waller",
          "Sebastian H",
          "Harry Wilson",
          "Joseph Barry-Shaw",
          "Zak beresford",
          "Benjamin Kelly",
          "Matt Johnson",
          "Oliver Chapman",
          "Christopher Culpin",
          "Louis Holmes"
         ]
        },
        {
         "marker": {
          "color": [
           "#D6C8A3",
           "#9CDC23",
           "#497F1D",
           "#98F0FF",
           "#D90C95",
           "#5281E9",
           "#C649F6",
           "#DEC50B",
           "#BD061D",
           "#2E94B6"
          ]
         },
         "orientation": "h",
         "type": "bar",
         "visible": false,
         "x": [
          45,
          50,
          61,
          65,
          70,
          72,
          80,
          94,
          96,
          98
         ],
         "y": [
          "Joseph Barry-Shaw",
          "Harry Wilson",
          "Benjamin Kelly",
          "Zak beresford",
          "Louis Holmes",
          "Matt Johnson",
          "Christopher Culpin",
          "Callum Waller",
          "Sebastian H",
          "Oliver Chapman"
         ]
        },
        {
         "marker": {
          "color": [
           "#5281E9",
           "#DEC50B",
           "#2E94B6",
           "#9CDC23",
           "#BD061D",
           "#D6C8A3",
           "#98F0FF",
           "#D90C95",
           "#497F1D",
           "#C649F6"
          ]
         },
         "orientation": "h",
         "type": "bar",
         "visible": false,
         "x": [
          19,
          27,
          28,
          33,
          33,
          35,
          36,
          37,
          40,
          45
         ],
         "y": [
          "Matt Johnson",
          "Callum Waller",
          "Oliver Chapman",
          "Harry Wilson",
          "Sebastian H",
          "Joseph Barry-Shaw",
          "Zak beresford",
          "Louis Holmes",
          "Benjamin Kelly",
          "Christopher Culpin"
         ]
        },
        {
         "marker": {
          "color": [
           "#D6C8A3",
           "#98F0FF",
           "#5281E9",
           "#2E94B6",
           "#497F1D",
           "#C649F6",
           "#D90C95",
           "#DEC50B",
           "#BD061D",
           "#9CDC23"
          ]
         },
         "orientation": "h",
         "type": "bar",
         "visible": false,
         "x": [
          40,
          52,
          53,
          60,
          60,
          61,
          63,
          63,
          65,
          71
         ],
         "y": [
          "Joseph Barry-Shaw",
          "Zak beresford",
          "Matt Johnson",
          "Oliver Chapman",
          "Benjamin Kelly",
          "Christopher Culpin",
          "Louis Holmes",
          "Callum Waller",
          "Sebastian H",
          "Harry Wilson"
         ]
        },
        {
         "marker": {
          "color": [
           "#2E94B6",
           "#DEC50B",
           "#5281E9",
           "#D6C8A3",
           "#BD061D",
           "#98F0FF",
           "#497F1D",
           "#C649F6",
           "#D90C95",
           "#9CDC23"
          ]
         },
         "orientation": "h",
         "type": "bar",
         "visible": false,
         "x": [
          35,
          38,
          41,
          41,
          45,
          49,
          52,
          62,
          65,
          68
         ],
         "y": [
          "Oliver Chapman",
          "Callum Waller",
          "Matt Johnson",
          "Joseph Barry-Shaw",
          "Sebastian H",
          "Zak beresford",
          "Benjamin Kelly",
          "Christopher Culpin",
          "Louis Holmes",
          "Harry Wilson"
         ]
        },
        {
         "marker": {
          "color": [
           "#C649F6",
           "#DEC50B",
           "#BD061D",
           "#9CDC23",
           "#98F0FF",
           "#2E94B6",
           "#497F1D",
           "#5281E9",
           "#D90C95",
           "#D6C8A3"
          ]
         },
         "orientation": "h",
         "type": "bar",
         "visible": false,
         "x": [
          33,
          36,
          46,
          47,
          52,
          53,
          60,
          63,
          68,
          75
         ],
         "y": [
          "Christopher Culpin",
          "Callum Waller",
          "Sebastian H",
          "Harry Wilson",
          "Zak beresford",
          "Oliver Chapman",
          "Benjamin Kelly",
          "Matt Johnson",
          "Louis Holmes",
          "Joseph Barry-Shaw"
         ]
        },
        {
         "marker": {
          "color": [
           "#D90C95",
           "#C649F6",
           "#98F0FF",
           "#DEC50B",
           "#5281E9",
           "#2E94B6",
           "#9CDC23",
           "#D6C8A3",
           "#BD061D",
           "#497F1D"
          ]
         },
         "orientation": "h",
         "type": "bar",
         "visible": false,
         "x": [
          26,
          27,
          27,
          27,
          33,
          41,
          41,
          41,
          52,
          60
         ],
         "y": [
          "Louis Holmes",
          "Christopher Culpin",
          "Zak beresford",
          "Callum Waller",
          "Matt Johnson",
          "Oliver Chapman",
          "Harry Wilson",
          "Joseph Barry-Shaw",
          "Sebastian H",
          "Benjamin Kelly"
         ]
        },
        {
         "marker": {
          "color": [
           "#D6C8A3",
           "#98F0FF",
           "#DEC50B",
           "#9CDC23",
           "#2E94B6",
           "#BD061D",
           "#5281E9",
           "#C649F6",
           "#D90C95",
           "#497F1D"
          ]
         },
         "orientation": "h",
         "type": "bar",
         "visible": false,
         "x": [
          18,
          19,
          20,
          27,
          29,
          32,
          38,
          40,
          47,
          57
         ],
         "y": [
          "Joseph Barry-Shaw",
          "Zak beresford",
          "Callum Waller",
          "Harry Wilson",
          "Oliver Chapman",
          "Sebastian H",
          "Matt Johnson",
          "Christopher Culpin",
          "Louis Holmes",
          "Benjamin Kelly"
         ]
        },
        {
         "marker": {
          "color": [
           "#DEC50B",
           "#C649F6",
           "#D90C95",
           "#9CDC23",
           "#497F1D",
           "#5281E9",
           "#D6C8A3",
           "#BD061D",
           "#2E94B6",
           "#98F0FF"
          ]
         },
         "orientation": "h",
         "type": "bar",
         "visible": false,
         "x": [
          32,
          33,
          37,
          43,
          43,
          46,
          51,
          55,
          58,
          60
         ],
         "y": [
          "Callum Waller",
          "Christopher Culpin",
          "Louis Holmes",
          "Harry Wilson",
          "Benjamin Kelly",
          "Matt Johnson",
          "Joseph Barry-Shaw",
          "Sebastian H",
          "Oliver Chapman",
          "Zak beresford"
         ]
        },
        {
         "marker": {
          "color": [
           "#C649F6",
           "#DEC50B",
           "#5281E9",
           "#D6C8A3",
           "#497F1D",
           "#98F0FF",
           "#D90C95",
           "#BD061D",
           "#2E94B6",
           "#9CDC23"
          ]
         },
         "orientation": "h",
         "type": "bar",
         "visible": false,
         "x": [
          30,
          36,
          38,
          41,
          41,
          45,
          48,
          48,
          58,
          63
         ],
         "y": [
          "Christopher Culpin",
          "Callum Waller",
          "Matt Johnson",
          "Joseph Barry-Shaw",
          "Benjamin Kelly",
          "Zak beresford",
          "Louis Holmes",
          "Sebastian H",
          "Oliver Chapman",
          "Harry Wilson"
         ]
        },
        {
         "marker": {
          "color": [
           "#497F1D",
           "#D90C95",
           "#98F0FF",
           "#2E94B6",
           "#D6C8A3",
           "#9CDC23",
           "#5281E9",
           "#C649F6",
           "#DEC50B",
           "#BD061D"
          ]
         },
         "orientation": "h",
         "type": "bar",
         "visible": false,
         "x": [
          30,
          37,
          37,
          40,
          41,
          42,
          46,
          47,
          53,
          56
         ],
         "y": [
          "Benjamin Kelly",
          "Louis Holmes",
          "Zak beresford",
          "Oliver Chapman",
          "Joseph Barry-Shaw",
          "Harry Wilson",
          "Matt Johnson",
          "Christopher Culpin",
          "Callum Waller",
          "Sebastian H"
         ]
        },
        {
         "marker": {
          "color": [
           "#C649F6",
           "#DEC50B",
           "#BD061D",
           "#D6C8A3",
           "#5281E9",
           "#9CDC23",
           "#497F1D",
           "#98F0FF",
           "#2E94B6",
           "#D90C95"
          ]
         },
         "orientation": "h",
         "type": "bar",
         "visible": false,
         "x": [
          42,
          47,
          52,
          52,
          62,
          66,
          73,
          74,
          77,
          80
         ],
         "y": [
          "Christopher Culpin",
          "Callum Waller",
          "Sebastian H",
          "Joseph Barry-Shaw",
          "Matt Johnson",
          "Harry Wilson",
          "Benjamin Kelly",
          "Zak beresford",
          "Oliver Chapman",
          "Louis Holmes"
         ]
        },
        {
         "marker": {
          "color": [
           "#5281E9",
           "#497F1D",
           "#D90C95",
           "#D6C8A3",
           "#DEC50B",
           "#C649F6",
           "#98F0FF",
           "#9CDC23",
           "#BD061D",
           "#2E94B6"
          ]
         },
         "orientation": "h",
         "type": "bar",
         "visible": false,
         "x": [
          29,
          31,
          37,
          42,
          43,
          52,
          52,
          53,
          53,
          70
         ],
         "y": [
          "Matt Johnson",
          "Benjamin Kelly",
          "Louis Holmes",
          "Joseph Barry-Shaw",
          "Callum Waller",
          "Christopher Culpin",
          "Zak beresford",
          "Harry Wilson",
          "Sebastian H",
          "Oliver Chapman"
         ]
        },
        {
         "marker": {
          "color": [
           "#DEC50B",
           "#98F0FF",
           "#D90C95",
           "#C649F6",
           "#497F1D",
           "#9CDC23",
           "#D6C8A3",
           "#BD061D",
           "#2E94B6",
           "#5281E9"
          ]
         },
         "orientation": "h",
         "type": "bar",
         "visible": false,
         "x": [
          42,
          49,
          50,
          51,
          52,
          56,
          61,
          70,
          73,
          81
         ],
         "y": [
          "Callum Waller",
          "Zak beresford",
          "Louis Holmes",
          "Christopher Culpin",
          "Benjamin Kelly",
          "Harry Wilson",
          "Joseph Barry-Shaw",
          "Sebastian H",
          "Oliver Chapman",
          "Matt Johnson"
         ]
        },
        {
         "marker": {
          "color": [
           "#DEC50B",
           "#BD061D",
           "#5281E9",
           "#98F0FF",
           "#C649F6",
           "#9CDC23",
           "#497F1D",
           "#D90C95",
           "#2E94B6",
           "#D6C8A3"
          ]
         },
         "orientation": "h",
         "type": "bar",
         "visible": false,
         "x": [
          36,
          42,
          50,
          52,
          54,
          59,
          62,
          79,
          80,
          94
         ],
         "y": [
          "Callum Waller",
          "Sebastian H",
          "Matt Johnson",
          "Zak beresford",
          "Christopher Culpin",
          "Harry Wilson",
          "Benjamin Kelly",
          "Louis Holmes",
          "Oliver Chapman",
          "Joseph Barry-Shaw"
         ]
        },
        {
         "marker": {
          "color": [
           "#BD061D",
           "#DEC50B",
           "#5281E9",
           "#497F1D",
           "#98F0FF",
           "#9CDC23",
           "#D90C95",
           "#D6C8A3",
           "#2E94B6",
           "#C649F6"
          ]
         },
         "orientation": "h",
         "type": "bar",
         "visible": false,
         "x": [
          52,
          56,
          60,
          60,
          65,
          66,
          70,
          74,
          78,
          81
         ],
         "y": [
          "Sebastian H",
          "Callum Waller",
          "Matt Johnson",
          "Benjamin Kelly",
          "Zak beresford",
          "Harry Wilson",
          "Louis Holmes",
          "Joseph Barry-Shaw",
          "Oliver Chapman",
          "Christopher Culpin"
         ]
        },
        {
         "marker": {
          "color": [
           "#5281E9",
           "#2E94B6",
           "#DEC50B",
           "#497F1D",
           "#9CDC23",
           "#D6C8A3",
           "#BD061D",
           "#98F0FF",
           "#D90C95",
           "#C649F6"
          ]
         },
         "orientation": "h",
         "type": "bar",
         "visible": false,
         "x": [
          56,
          58,
          59,
          64,
          70,
          75,
          80,
          80,
          92,
          104
         ],
         "y": [
          "Matt Johnson",
          "Oliver Chapman",
          "Callum Waller",
          "Benjamin Kelly",
          "Harry Wilson",
          "Joseph Barry-Shaw",
          "Sebastian H",
          "Zak beresford",
          "Louis Holmes",
          "Christopher Culpin"
         ]
        },
        {
         "marker": {
          "color": [
           "#BD061D",
           "#98F0FF",
           "#D90C95",
           "#2E94B6",
           "#5281E9",
           "#C649F6",
           "#9CDC23",
           "#497F1D",
           "#DEC50B",
           "#D6C8A3"
          ]
         },
         "orientation": "h",
         "type": "bar",
         "visible": false,
         "x": [
          31,
          32,
          37,
          37,
          38,
          39,
          40,
          40,
          51,
          61
         ],
         "y": [
          "Sebastian H",
          "Zak beresford",
          "Louis Holmes",
          "Oliver Chapman",
          "Matt Johnson",
          "Christopher Culpin",
          "Harry Wilson",
          "Benjamin Kelly",
          "Callum Waller",
          "Joseph Barry-Shaw"
         ]
        },
        {
         "marker": {
          "color": [
           "#98F0FF",
           "#9CDC23",
           "#D90C95",
           "#C649F6",
           "#BD061D",
           "#497F1D",
           "#2E94B6",
           "#DEC50B",
           "#5281E9",
           "#D6C8A3"
          ]
         },
         "orientation": "h",
         "type": "bar",
         "visible": false,
         "x": [
          52,
          53,
          55,
          55,
          57,
          57,
          59,
          67,
          74,
          82
         ],
         "y": [
          "Zak beresford",
          "Harry Wilson",
          "Louis Holmes",
          "Christopher Culpin",
          "Sebastian H",
          "Benjamin Kelly",
          "Oliver Chapman",
          "Callum Waller",
          "Matt Johnson",
          "Joseph Barry-Shaw"
         ]
        },
        {
         "marker": {
          "color": [
           "#C649F6",
           "#2E94B6",
           "#DEC50B",
           "#D90C95",
           "#D6C8A3",
           "#9CDC23",
           "#5281E9",
           "#BD061D",
           "#497F1D",
           "#98F0FF"
          ]
         },
         "orientation": "h",
         "type": "bar",
         "visible": false,
         "x": [
          42,
          45,
          45,
          46,
          48,
          49,
          53,
          54,
          57,
          62
         ],
         "y": [
          "Christopher Culpin",
          "Oliver Chapman",
          "Callum Waller",
          "Louis Holmes",
          "Joseph Barry-Shaw",
          "Harry Wilson",
          "Matt Johnson",
          "Sebastian H",
          "Benjamin Kelly",
          "Zak beresford"
         ]
        },
        {
         "marker": {
          "color": [
           "#C649F6",
           "#98F0FF",
           "#2E94B6",
           "#D90C95",
           "#D6C8A3",
           "#DEC50B",
           "#497F1D",
           "#5281E9",
           "#BD061D",
           "#9CDC23"
          ]
         },
         "orientation": "h",
         "type": "bar",
         "visible": false,
         "x": [
          1,
          5,
          10,
          16,
          16,
          16,
          17,
          21,
          31,
          36
         ],
         "y": [
          "Christopher Culpin",
          "Zak beresford",
          "Oliver Chapman",
          "Louis Holmes",
          "Joseph Barry-Shaw",
          "Callum Waller",
          "Benjamin Kelly",
          "Matt Johnson",
          "Sebastian H",
          "Harry Wilson"
         ]
        },
        {
         "marker": {
          "color": [
           "#C649F6",
           "#9CDC23",
           "#5281E9",
           "#D6C8A3",
           "#497F1D",
           "#DEC50B",
           "#98F0FF",
           "#BD061D",
           "#2E94B6",
           "#D90C95"
          ]
         },
         "orientation": "h",
         "type": "bar",
         "visible": false,
         "x": [
          37,
          49,
          53,
          56,
          57,
          59,
          61,
          65,
          71,
          73
         ],
         "y": [
          "Christopher Culpin",
          "Harry Wilson",
          "Matt Johnson",
          "Joseph Barry-Shaw",
          "Benjamin Kelly",
          "Callum Waller",
          "Zak beresford",
          "Sebastian H",
          "Oliver Chapman",
          "Louis Holmes"
         ]
        },
        {
         "marker": {
          "color": [
           "#5281E9",
           "#DEC50B",
           "#2E94B6",
           "#497F1D",
           "#C649F6",
           "#D6C8A3",
           "#9CDC23",
           "#98F0FF",
           "#BD061D",
           "#D90C95"
          ]
         },
         "orientation": "h",
         "type": "bar",
         "visible": false,
         "x": [
          29,
          42,
          44,
          47,
          50,
          61,
          68,
          69,
          74,
          78
         ],
         "y": [
          "Matt Johnson",
          "Callum Waller",
          "Oliver Chapman",
          "Benjamin Kelly",
          "Christopher Culpin",
          "Joseph Barry-Shaw",
          "Harry Wilson",
          "Zak beresford",
          "Sebastian H",
          "Louis Holmes"
         ]
        },
        {
         "marker": {
          "color": [
           "#497F1D",
           "#D6C8A3",
           "#2E94B6",
           "#D90C95",
           "#BD061D",
           "#98F0FF",
           "#9CDC23",
           "#DEC50B",
           "#C649F6",
           "#5281E9"
          ]
         },
         "orientation": "h",
         "type": "bar",
         "visible": false,
         "x": [
          45,
          53,
          54,
          57,
          58,
          61,
          69,
          69,
          72,
          103
         ],
         "y": [
          "Benjamin Kelly",
          "Joseph Barry-Shaw",
          "Oliver Chapman",
          "Louis Holmes",
          "Sebastian H",
          "Zak beresford",
          "Harry Wilson",
          "Callum Waller",
          "Christopher Culpin",
          "Matt Johnson"
         ]
        },
        {
         "marker": {
          "color": [
           "#DEC50B",
           "#98F0FF",
           "#497F1D",
           "#D90C95",
           "#2E94B6",
           "#BD061D",
           "#9CDC23",
           "#5281E9",
           "#C649F6",
           "#D6C8A3"
          ]
         },
         "orientation": "h",
         "type": "bar",
         "visible": false,
         "x": [
          21,
          25,
          34,
          39,
          39,
          45,
          50,
          50,
          52,
          54
         ],
         "y": [
          "Callum Waller",
          "Zak beresford",
          "Benjamin Kelly",
          "Louis Holmes",
          "Oliver Chapman",
          "Sebastian H",
          "Harry Wilson",
          "Matt Johnson",
          "Christopher Culpin",
          "Joseph Barry-Shaw"
         ]
        }
       ],
       "layout": {
        "sliders": [
         {
          "active": 0,
          "currentvalue": {
           "prefix": "GW: "
          },
          "pad": {
           "t": 50
          },
          "steps": [
           {
            "args": [
             {
              "visible": [
               true,
               false,
               false,
               false,
               false,
               false,
               false,
               false,
               false,
               false,
               false,
               false,
               false,
               false,
               false,
               false,
               false,
               false,
               false,
               false,
               false,
               false,
               false,
               false,
               false,
               false,
               false,
               false,
               false,
               false,
               false,
               false,
               false
              ]
             },
             {
              "title": "Total by week: 1"
             }
            ],
            "method": "update"
           },
           {
            "args": [
             {
              "visible": [
               false,
               true,
               false,
               false,
               false,
               false,
               false,
               false,
               false,
               false,
               false,
               false,
               false,
               false,
               false,
               false,
               false,
               false,
               false,
               false,
               false,
               false,
               false,
               false,
               false,
               false,
               false,
               false,
               false,
               false,
               false,
               false,
               false
              ]
             },
             {
              "title": "Total by week: 2"
             }
            ],
            "method": "update"
           },
           {
            "args": [
             {
              "visible": [
               false,
               false,
               true,
               false,
               false,
               false,
               false,
               false,
               false,
               false,
               false,
               false,
               false,
               false,
               false,
               false,
               false,
               false,
               false,
               false,
               false,
               false,
               false,
               false,
               false,
               false,
               false,
               false,
               false,
               false,
               false,
               false,
               false
              ]
             },
             {
              "title": "Total by week: 3"
             }
            ],
            "method": "update"
           },
           {
            "args": [
             {
              "visible": [
               false,
               false,
               false,
               true,
               false,
               false,
               false,
               false,
               false,
               false,
               false,
               false,
               false,
               false,
               false,
               false,
               false,
               false,
               false,
               false,
               false,
               false,
               false,
               false,
               false,
               false,
               false,
               false,
               false,
               false,
               false,
               false,
               false
              ]
             },
             {
              "title": "Total by week: 4"
             }
            ],
            "method": "update"
           },
           {
            "args": [
             {
              "visible": [
               false,
               false,
               false,
               false,
               true,
               false,
               false,
               false,
               false,
               false,
               false,
               false,
               false,
               false,
               false,
               false,
               false,
               false,
               false,
               false,
               false,
               false,
               false,
               false,
               false,
               false,
               false,
               false,
               false,
               false,
               false,
               false,
               false
              ]
             },
             {
              "title": "Total by week: 5"
             }
            ],
            "method": "update"
           },
           {
            "args": [
             {
              "visible": [
               false,
               false,
               false,
               false,
               false,
               true,
               false,
               false,
               false,
               false,
               false,
               false,
               false,
               false,
               false,
               false,
               false,
               false,
               false,
               false,
               false,
               false,
               false,
               false,
               false,
               false,
               false,
               false,
               false,
               false,
               false,
               false,
               false
              ]
             },
             {
              "title": "Total by week: 6"
             }
            ],
            "method": "update"
           },
           {
            "args": [
             {
              "visible": [
               false,
               false,
               false,
               false,
               false,
               false,
               true,
               false,
               false,
               false,
               false,
               false,
               false,
               false,
               false,
               false,
               false,
               false,
               false,
               false,
               false,
               false,
               false,
               false,
               false,
               false,
               false,
               false,
               false,
               false,
               false,
               false,
               false
              ]
             },
             {
              "title": "Total by week: 7"
             }
            ],
            "method": "update"
           },
           {
            "args": [
             {
              "visible": [
               false,
               false,
               false,
               false,
               false,
               false,
               false,
               true,
               false,
               false,
               false,
               false,
               false,
               false,
               false,
               false,
               false,
               false,
               false,
               false,
               false,
               false,
               false,
               false,
               false,
               false,
               false,
               false,
               false,
               false,
               false,
               false,
               false
              ]
             },
             {
              "title": "Total by week: 8"
             }
            ],
            "method": "update"
           },
           {
            "args": [
             {
              "visible": [
               false,
               false,
               false,
               false,
               false,
               false,
               false,
               false,
               true,
               false,
               false,
               false,
               false,
               false,
               false,
               false,
               false,
               false,
               false,
               false,
               false,
               false,
               false,
               false,
               false,
               false,
               false,
               false,
               false,
               false,
               false,
               false,
               false
              ]
             },
             {
              "title": "Total by week: 9"
             }
            ],
            "method": "update"
           },
           {
            "args": [
             {
              "visible": [
               false,
               false,
               false,
               false,
               false,
               false,
               false,
               false,
               false,
               true,
               false,
               false,
               false,
               false,
               false,
               false,
               false,
               false,
               false,
               false,
               false,
               false,
               false,
               false,
               false,
               false,
               false,
               false,
               false,
               false,
               false,
               false,
               false
              ]
             },
             {
              "title": "Total by week: 10"
             }
            ],
            "method": "update"
           },
           {
            "args": [
             {
              "visible": [
               false,
               false,
               false,
               false,
               false,
               false,
               false,
               false,
               false,
               false,
               true,
               false,
               false,
               false,
               false,
               false,
               false,
               false,
               false,
               false,
               false,
               false,
               false,
               false,
               false,
               false,
               false,
               false,
               false,
               false,
               false,
               false,
               false
              ]
             },
             {
              "title": "Total by week: 11"
             }
            ],
            "method": "update"
           },
           {
            "args": [
             {
              "visible": [
               false,
               false,
               false,
               false,
               false,
               false,
               false,
               false,
               false,
               false,
               false,
               true,
               false,
               false,
               false,
               false,
               false,
               false,
               false,
               false,
               false,
               false,
               false,
               false,
               false,
               false,
               false,
               false,
               false,
               false,
               false,
               false,
               false
              ]
             },
             {
              "title": "Total by week: 12"
             }
            ],
            "method": "update"
           },
           {
            "args": [
             {
              "visible": [
               false,
               false,
               false,
               false,
               false,
               false,
               false,
               false,
               false,
               false,
               false,
               false,
               true,
               false,
               false,
               false,
               false,
               false,
               false,
               false,
               false,
               false,
               false,
               false,
               false,
               false,
               false,
               false,
               false,
               false,
               false,
               false,
               false
              ]
             },
             {
              "title": "Total by week: 13"
             }
            ],
            "method": "update"
           },
           {
            "args": [
             {
              "visible": [
               false,
               false,
               false,
               false,
               false,
               false,
               false,
               false,
               false,
               false,
               false,
               false,
               false,
               true,
               false,
               false,
               false,
               false,
               false,
               false,
               false,
               false,
               false,
               false,
               false,
               false,
               false,
               false,
               false,
               false,
               false,
               false,
               false
              ]
             },
             {
              "title": "Total by week: 14"
             }
            ],
            "method": "update"
           },
           {
            "args": [
             {
              "visible": [
               false,
               false,
               false,
               false,
               false,
               false,
               false,
               false,
               false,
               false,
               false,
               false,
               false,
               false,
               true,
               false,
               false,
               false,
               false,
               false,
               false,
               false,
               false,
               false,
               false,
               false,
               false,
               false,
               false,
               false,
               false,
               false,
               false
              ]
             },
             {
              "title": "Total by week: 15"
             }
            ],
            "method": "update"
           },
           {
            "args": [
             {
              "visible": [
               false,
               false,
               false,
               false,
               false,
               false,
               false,
               false,
               false,
               false,
               false,
               false,
               false,
               false,
               false,
               true,
               false,
               false,
               false,
               false,
               false,
               false,
               false,
               false,
               false,
               false,
               false,
               false,
               false,
               false,
               false,
               false,
               false
              ]
             },
             {
              "title": "Total by week: 16"
             }
            ],
            "method": "update"
           },
           {
            "args": [
             {
              "visible": [
               false,
               false,
               false,
               false,
               false,
               false,
               false,
               false,
               false,
               false,
               false,
               false,
               false,
               false,
               false,
               false,
               true,
               false,
               false,
               false,
               false,
               false,
               false,
               false,
               false,
               false,
               false,
               false,
               false,
               false,
               false,
               false,
               false
              ]
             },
             {
              "title": "Total by week: 17"
             }
            ],
            "method": "update"
           },
           {
            "args": [
             {
              "visible": [
               false,
               false,
               false,
               false,
               false,
               false,
               false,
               false,
               false,
               false,
               false,
               false,
               false,
               false,
               false,
               false,
               false,
               true,
               false,
               false,
               false,
               false,
               false,
               false,
               false,
               false,
               false,
               false,
               false,
               false,
               false,
               false,
               false
              ]
             },
             {
              "title": "Total by week: 18"
             }
            ],
            "method": "update"
           },
           {
            "args": [
             {
              "visible": [
               false,
               false,
               false,
               false,
               false,
               false,
               false,
               false,
               false,
               false,
               false,
               false,
               false,
               false,
               false,
               false,
               false,
               false,
               true,
               false,
               false,
               false,
               false,
               false,
               false,
               false,
               false,
               false,
               false,
               false,
               false,
               false,
               false
              ]
             },
             {
              "title": "Total by week: 19"
             }
            ],
            "method": "update"
           },
           {
            "args": [
             {
              "visible": [
               false,
               false,
               false,
               false,
               false,
               false,
               false,
               false,
               false,
               false,
               false,
               false,
               false,
               false,
               false,
               false,
               false,
               false,
               false,
               true,
               false,
               false,
               false,
               false,
               false,
               false,
               false,
               false,
               false,
               false,
               false,
               false,
               false
              ]
             },
             {
              "title": "Total by week: 20"
             }
            ],
            "method": "update"
           },
           {
            "args": [
             {
              "visible": [
               false,
               false,
               false,
               false,
               false,
               false,
               false,
               false,
               false,
               false,
               false,
               false,
               false,
               false,
               false,
               false,
               false,
               false,
               false,
               false,
               true,
               false,
               false,
               false,
               false,
               false,
               false,
               false,
               false,
               false,
               false,
               false,
               false
              ]
             },
             {
              "title": "Total by week: 21"
             }
            ],
            "method": "update"
           },
           {
            "args": [
             {
              "visible": [
               false,
               false,
               false,
               false,
               false,
               false,
               false,
               false,
               false,
               false,
               false,
               false,
               false,
               false,
               false,
               false,
               false,
               false,
               false,
               false,
               false,
               true,
               false,
               false,
               false,
               false,
               false,
               false,
               false,
               false,
               false,
               false,
               false
              ]
             },
             {
              "title": "Total by week: 22"
             }
            ],
            "method": "update"
           },
           {
            "args": [
             {
              "visible": [
               false,
               false,
               false,
               false,
               false,
               false,
               false,
               false,
               false,
               false,
               false,
               false,
               false,
               false,
               false,
               false,
               false,
               false,
               false,
               false,
               false,
               false,
               true,
               false,
               false,
               false,
               false,
               false,
               false,
               false,
               false,
               false,
               false
              ]
             },
             {
              "title": "Total by week: 23"
             }
            ],
            "method": "update"
           },
           {
            "args": [
             {
              "visible": [
               false,
               false,
               false,
               false,
               false,
               false,
               false,
               false,
               false,
               false,
               false,
               false,
               false,
               false,
               false,
               false,
               false,
               false,
               false,
               false,
               false,
               false,
               false,
               true,
               false,
               false,
               false,
               false,
               false,
               false,
               false,
               false,
               false
              ]
             },
             {
              "title": "Total by week: 24"
             }
            ],
            "method": "update"
           },
           {
            "args": [
             {
              "visible": [
               false,
               false,
               false,
               false,
               false,
               false,
               false,
               false,
               false,
               false,
               false,
               false,
               false,
               false,
               false,
               false,
               false,
               false,
               false,
               false,
               false,
               false,
               false,
               false,
               true,
               false,
               false,
               false,
               false,
               false,
               false,
               false,
               false
              ]
             },
             {
              "title": "Total by week: 25"
             }
            ],
            "method": "update"
           },
           {
            "args": [
             {
              "visible": [
               false,
               false,
               false,
               false,
               false,
               false,
               false,
               false,
               false,
               false,
               false,
               false,
               false,
               false,
               false,
               false,
               false,
               false,
               false,
               false,
               false,
               false,
               false,
               false,
               false,
               true,
               false,
               false,
               false,
               false,
               false,
               false,
               false
              ]
             },
             {
              "title": "Total by week: 26"
             }
            ],
            "method": "update"
           },
           {
            "args": [
             {
              "visible": [
               false,
               false,
               false,
               false,
               false,
               false,
               false,
               false,
               false,
               false,
               false,
               false,
               false,
               false,
               false,
               false,
               false,
               false,
               false,
               false,
               false,
               false,
               false,
               false,
               false,
               false,
               true,
               false,
               false,
               false,
               false,
               false,
               false
              ]
             },
             {
              "title": "Total by week: 27"
             }
            ],
            "method": "update"
           },
           {
            "args": [
             {
              "visible": [
               false,
               false,
               false,
               false,
               false,
               false,
               false,
               false,
               false,
               false,
               false,
               false,
               false,
               false,
               false,
               false,
               false,
               false,
               false,
               false,
               false,
               false,
               false,
               false,
               false,
               false,
               false,
               true,
               false,
               false,
               false,
               false,
               false
              ]
             },
             {
              "title": "Total by week: 28"
             }
            ],
            "method": "update"
           },
           {
            "args": [
             {
              "visible": [
               false,
               false,
               false,
               false,
               false,
               false,
               false,
               false,
               false,
               false,
               false,
               false,
               false,
               false,
               false,
               false,
               false,
               false,
               false,
               false,
               false,
               false,
               false,
               false,
               false,
               false,
               false,
               false,
               true,
               false,
               false,
               false,
               false
              ]
             },
             {
              "title": "Total by week: 29"
             }
            ],
            "method": "update"
           },
           {
            "args": [
             {
              "visible": [
               false,
               false,
               false,
               false,
               false,
               false,
               false,
               false,
               false,
               false,
               false,
               false,
               false,
               false,
               false,
               false,
               false,
               false,
               false,
               false,
               false,
               false,
               false,
               false,
               false,
               false,
               false,
               false,
               false,
               true,
               false,
               false,
               false
              ]
             },
             {
              "title": "Total by week: 30"
             }
            ],
            "method": "update"
           },
           {
            "args": [
             {
              "visible": [
               false,
               false,
               false,
               false,
               false,
               false,
               false,
               false,
               false,
               false,
               false,
               false,
               false,
               false,
               false,
               false,
               false,
               false,
               false,
               false,
               false,
               false,
               false,
               false,
               false,
               false,
               false,
               false,
               false,
               false,
               true,
               false,
               false
              ]
             },
             {
              "title": "Total by week: 31"
             }
            ],
            "method": "update"
           },
           {
            "args": [
             {
              "visible": [
               false,
               false,
               false,
               false,
               false,
               false,
               false,
               false,
               false,
               false,
               false,
               false,
               false,
               false,
               false,
               false,
               false,
               false,
               false,
               false,
               false,
               false,
               false,
               false,
               false,
               false,
               false,
               false,
               false,
               false,
               false,
               true,
               false
              ]
             },
             {
              "title": "Total by week: 32"
             }
            ],
            "method": "update"
           },
           {
            "args": [
             {
              "visible": [
               false,
               false,
               false,
               false,
               false,
               false,
               false,
               false,
               false,
               false,
               false,
               false,
               false,
               false,
               false,
               false,
               false,
               false,
               false,
               false,
               false,
               false,
               false,
               false,
               false,
               false,
               false,
               false,
               false,
               false,
               false,
               false,
               true
              ]
             },
             {
              "title": "Total by week: 33"
             }
            ],
            "method": "update"
           }
          ]
         }
        ],
        "template": {
         "data": {
          "bar": [
           {
            "error_x": {
             "color": "#2a3f5f"
            },
            "error_y": {
             "color": "#2a3f5f"
            },
            "marker": {
             "line": {
              "color": "#E5ECF6",
              "width": 0.5
             },
             "pattern": {
              "fillmode": "overlay",
              "size": 10,
              "solidity": 0.2
             }
            },
            "type": "bar"
           }
          ],
          "barpolar": [
           {
            "marker": {
             "line": {
              "color": "#E5ECF6",
              "width": 0.5
             },
             "pattern": {
              "fillmode": "overlay",
              "size": 10,
              "solidity": 0.2
             }
            },
            "type": "barpolar"
           }
          ],
          "carpet": [
           {
            "aaxis": {
             "endlinecolor": "#2a3f5f",
             "gridcolor": "white",
             "linecolor": "white",
             "minorgridcolor": "white",
             "startlinecolor": "#2a3f5f"
            },
            "baxis": {
             "endlinecolor": "#2a3f5f",
             "gridcolor": "white",
             "linecolor": "white",
             "minorgridcolor": "white",
             "startlinecolor": "#2a3f5f"
            },
            "type": "carpet"
           }
          ],
          "choropleth": [
           {
            "colorbar": {
             "outlinewidth": 0,
             "ticks": ""
            },
            "type": "choropleth"
           }
          ],
          "contour": [
           {
            "colorbar": {
             "outlinewidth": 0,
             "ticks": ""
            },
            "colorscale": [
             [
              0,
              "#0d0887"
             ],
             [
              0.1111111111111111,
              "#46039f"
             ],
             [
              0.2222222222222222,
              "#7201a8"
             ],
             [
              0.3333333333333333,
              "#9c179e"
             ],
             [
              0.4444444444444444,
              "#bd3786"
             ],
             [
              0.5555555555555556,
              "#d8576b"
             ],
             [
              0.6666666666666666,
              "#ed7953"
             ],
             [
              0.7777777777777778,
              "#fb9f3a"
             ],
             [
              0.8888888888888888,
              "#fdca26"
             ],
             [
              1,
              "#f0f921"
             ]
            ],
            "type": "contour"
           }
          ],
          "contourcarpet": [
           {
            "colorbar": {
             "outlinewidth": 0,
             "ticks": ""
            },
            "type": "contourcarpet"
           }
          ],
          "heatmap": [
           {
            "colorbar": {
             "outlinewidth": 0,
             "ticks": ""
            },
            "colorscale": [
             [
              0,
              "#0d0887"
             ],
             [
              0.1111111111111111,
              "#46039f"
             ],
             [
              0.2222222222222222,
              "#7201a8"
             ],
             [
              0.3333333333333333,
              "#9c179e"
             ],
             [
              0.4444444444444444,
              "#bd3786"
             ],
             [
              0.5555555555555556,
              "#d8576b"
             ],
             [
              0.6666666666666666,
              "#ed7953"
             ],
             [
              0.7777777777777778,
              "#fb9f3a"
             ],
             [
              0.8888888888888888,
              "#fdca26"
             ],
             [
              1,
              "#f0f921"
             ]
            ],
            "type": "heatmap"
           }
          ],
          "heatmapgl": [
           {
            "colorbar": {
             "outlinewidth": 0,
             "ticks": ""
            },
            "colorscale": [
             [
              0,
              "#0d0887"
             ],
             [
              0.1111111111111111,
              "#46039f"
             ],
             [
              0.2222222222222222,
              "#7201a8"
             ],
             [
              0.3333333333333333,
              "#9c179e"
             ],
             [
              0.4444444444444444,
              "#bd3786"
             ],
             [
              0.5555555555555556,
              "#d8576b"
             ],
             [
              0.6666666666666666,
              "#ed7953"
             ],
             [
              0.7777777777777778,
              "#fb9f3a"
             ],
             [
              0.8888888888888888,
              "#fdca26"
             ],
             [
              1,
              "#f0f921"
             ]
            ],
            "type": "heatmapgl"
           }
          ],
          "histogram": [
           {
            "marker": {
             "pattern": {
              "fillmode": "overlay",
              "size": 10,
              "solidity": 0.2
             }
            },
            "type": "histogram"
           }
          ],
          "histogram2d": [
           {
            "colorbar": {
             "outlinewidth": 0,
             "ticks": ""
            },
            "colorscale": [
             [
              0,
              "#0d0887"
             ],
             [
              0.1111111111111111,
              "#46039f"
             ],
             [
              0.2222222222222222,
              "#7201a8"
             ],
             [
              0.3333333333333333,
              "#9c179e"
             ],
             [
              0.4444444444444444,
              "#bd3786"
             ],
             [
              0.5555555555555556,
              "#d8576b"
             ],
             [
              0.6666666666666666,
              "#ed7953"
             ],
             [
              0.7777777777777778,
              "#fb9f3a"
             ],
             [
              0.8888888888888888,
              "#fdca26"
             ],
             [
              1,
              "#f0f921"
             ]
            ],
            "type": "histogram2d"
           }
          ],
          "histogram2dcontour": [
           {
            "colorbar": {
             "outlinewidth": 0,
             "ticks": ""
            },
            "colorscale": [
             [
              0,
              "#0d0887"
             ],
             [
              0.1111111111111111,
              "#46039f"
             ],
             [
              0.2222222222222222,
              "#7201a8"
             ],
             [
              0.3333333333333333,
              "#9c179e"
             ],
             [
              0.4444444444444444,
              "#bd3786"
             ],
             [
              0.5555555555555556,
              "#d8576b"
             ],
             [
              0.6666666666666666,
              "#ed7953"
             ],
             [
              0.7777777777777778,
              "#fb9f3a"
             ],
             [
              0.8888888888888888,
              "#fdca26"
             ],
             [
              1,
              "#f0f921"
             ]
            ],
            "type": "histogram2dcontour"
           }
          ],
          "mesh3d": [
           {
            "colorbar": {
             "outlinewidth": 0,
             "ticks": ""
            },
            "type": "mesh3d"
           }
          ],
          "parcoords": [
           {
            "line": {
             "colorbar": {
              "outlinewidth": 0,
              "ticks": ""
             }
            },
            "type": "parcoords"
           }
          ],
          "pie": [
           {
            "automargin": true,
            "type": "pie"
           }
          ],
          "scatter": [
           {
            "fillpattern": {
             "fillmode": "overlay",
             "size": 10,
             "solidity": 0.2
            },
            "type": "scatter"
           }
          ],
          "scatter3d": [
           {
            "line": {
             "colorbar": {
              "outlinewidth": 0,
              "ticks": ""
             }
            },
            "marker": {
             "colorbar": {
              "outlinewidth": 0,
              "ticks": ""
             }
            },
            "type": "scatter3d"
           }
          ],
          "scattercarpet": [
           {
            "marker": {
             "colorbar": {
              "outlinewidth": 0,
              "ticks": ""
             }
            },
            "type": "scattercarpet"
           }
          ],
          "scattergeo": [
           {
            "marker": {
             "colorbar": {
              "outlinewidth": 0,
              "ticks": ""
             }
            },
            "type": "scattergeo"
           }
          ],
          "scattergl": [
           {
            "marker": {
             "colorbar": {
              "outlinewidth": 0,
              "ticks": ""
             }
            },
            "type": "scattergl"
           }
          ],
          "scattermapbox": [
           {
            "marker": {
             "colorbar": {
              "outlinewidth": 0,
              "ticks": ""
             }
            },
            "type": "scattermapbox"
           }
          ],
          "scatterpolar": [
           {
            "marker": {
             "colorbar": {
              "outlinewidth": 0,
              "ticks": ""
             }
            },
            "type": "scatterpolar"
           }
          ],
          "scatterpolargl": [
           {
            "marker": {
             "colorbar": {
              "outlinewidth": 0,
              "ticks": ""
             }
            },
            "type": "scatterpolargl"
           }
          ],
          "scatterternary": [
           {
            "marker": {
             "colorbar": {
              "outlinewidth": 0,
              "ticks": ""
             }
            },
            "type": "scatterternary"
           }
          ],
          "surface": [
           {
            "colorbar": {
             "outlinewidth": 0,
             "ticks": ""
            },
            "colorscale": [
             [
              0,
              "#0d0887"
             ],
             [
              0.1111111111111111,
              "#46039f"
             ],
             [
              0.2222222222222222,
              "#7201a8"
             ],
             [
              0.3333333333333333,
              "#9c179e"
             ],
             [
              0.4444444444444444,
              "#bd3786"
             ],
             [
              0.5555555555555556,
              "#d8576b"
             ],
             [
              0.6666666666666666,
              "#ed7953"
             ],
             [
              0.7777777777777778,
              "#fb9f3a"
             ],
             [
              0.8888888888888888,
              "#fdca26"
             ],
             [
              1,
              "#f0f921"
             ]
            ],
            "type": "surface"
           }
          ],
          "table": [
           {
            "cells": {
             "fill": {
              "color": "#EBF0F8"
             },
             "line": {
              "color": "white"
             }
            },
            "header": {
             "fill": {
              "color": "#C8D4E3"
             },
             "line": {
              "color": "white"
             }
            },
            "type": "table"
           }
          ]
         },
         "layout": {
          "annotationdefaults": {
           "arrowcolor": "#2a3f5f",
           "arrowhead": 0,
           "arrowwidth": 1
          },
          "autotypenumbers": "strict",
          "coloraxis": {
           "colorbar": {
            "outlinewidth": 0,
            "ticks": ""
           }
          },
          "colorscale": {
           "diverging": [
            [
             0,
             "#8e0152"
            ],
            [
             0.1,
             "#c51b7d"
            ],
            [
             0.2,
             "#de77ae"
            ],
            [
             0.3,
             "#f1b6da"
            ],
            [
             0.4,
             "#fde0ef"
            ],
            [
             0.5,
             "#f7f7f7"
            ],
            [
             0.6,
             "#e6f5d0"
            ],
            [
             0.7,
             "#b8e186"
            ],
            [
             0.8,
             "#7fbc41"
            ],
            [
             0.9,
             "#4d9221"
            ],
            [
             1,
             "#276419"
            ]
           ],
           "sequential": [
            [
             0,
             "#0d0887"
            ],
            [
             0.1111111111111111,
             "#46039f"
            ],
            [
             0.2222222222222222,
             "#7201a8"
            ],
            [
             0.3333333333333333,
             "#9c179e"
            ],
            [
             0.4444444444444444,
             "#bd3786"
            ],
            [
             0.5555555555555556,
             "#d8576b"
            ],
            [
             0.6666666666666666,
             "#ed7953"
            ],
            [
             0.7777777777777778,
             "#fb9f3a"
            ],
            [
             0.8888888888888888,
             "#fdca26"
            ],
            [
             1,
             "#f0f921"
            ]
           ],
           "sequentialminus": [
            [
             0,
             "#0d0887"
            ],
            [
             0.1111111111111111,
             "#46039f"
            ],
            [
             0.2222222222222222,
             "#7201a8"
            ],
            [
             0.3333333333333333,
             "#9c179e"
            ],
            [
             0.4444444444444444,
             "#bd3786"
            ],
            [
             0.5555555555555556,
             "#d8576b"
            ],
            [
             0.6666666666666666,
             "#ed7953"
            ],
            [
             0.7777777777777778,
             "#fb9f3a"
            ],
            [
             0.8888888888888888,
             "#fdca26"
            ],
            [
             1,
             "#f0f921"
            ]
           ]
          },
          "colorway": [
           "#636efa",
           "#EF553B",
           "#00cc96",
           "#ab63fa",
           "#FFA15A",
           "#19d3f3",
           "#FF6692",
           "#B6E880",
           "#FF97FF",
           "#FECB52"
          ],
          "font": {
           "color": "#2a3f5f"
          },
          "geo": {
           "bgcolor": "white",
           "lakecolor": "white",
           "landcolor": "#E5ECF6",
           "showlakes": true,
           "showland": true,
           "subunitcolor": "white"
          },
          "hoverlabel": {
           "align": "left"
          },
          "hovermode": "closest",
          "mapbox": {
           "style": "light"
          },
          "paper_bgcolor": "white",
          "plot_bgcolor": "#E5ECF6",
          "polar": {
           "angularaxis": {
            "gridcolor": "white",
            "linecolor": "white",
            "ticks": ""
           },
           "bgcolor": "#E5ECF6",
           "radialaxis": {
            "gridcolor": "white",
            "linecolor": "white",
            "ticks": ""
           }
          },
          "scene": {
           "xaxis": {
            "backgroundcolor": "#E5ECF6",
            "gridcolor": "white",
            "gridwidth": 2,
            "linecolor": "white",
            "showbackground": true,
            "ticks": "",
            "zerolinecolor": "white"
           },
           "yaxis": {
            "backgroundcolor": "#E5ECF6",
            "gridcolor": "white",
            "gridwidth": 2,
            "linecolor": "white",
            "showbackground": true,
            "ticks": "",
            "zerolinecolor": "white"
           },
           "zaxis": {
            "backgroundcolor": "#E5ECF6",
            "gridcolor": "white",
            "gridwidth": 2,
            "linecolor": "white",
            "showbackground": true,
            "ticks": "",
            "zerolinecolor": "white"
           }
          },
          "shapedefaults": {
           "line": {
            "color": "#2a3f5f"
           }
          },
          "ternary": {
           "aaxis": {
            "gridcolor": "white",
            "linecolor": "white",
            "ticks": ""
           },
           "baxis": {
            "gridcolor": "white",
            "linecolor": "white",
            "ticks": ""
           },
           "bgcolor": "#E5ECF6",
           "caxis": {
            "gridcolor": "white",
            "linecolor": "white",
            "ticks": ""
           }
          },
          "title": {
           "x": 0.05
          },
          "xaxis": {
           "automargin": true,
           "gridcolor": "white",
           "linecolor": "white",
           "ticks": "",
           "title": {
            "standoff": 15
           },
           "zerolinecolor": "white",
           "zerolinewidth": 2
          },
          "yaxis": {
           "automargin": true,
           "gridcolor": "white",
           "linecolor": "white",
           "ticks": "",
           "title": {
            "standoff": 15
           },
           "zerolinecolor": "white",
           "zerolinewidth": 2
          }
         }
        }
       }
      }
     },
     "metadata": {},
     "output_type": "display_data"
    }
   ],
   "source": [
    "plot_timeseries_bar_by_gw(gameweek_points_df,colour_dict,team_data_df)"
   ]
  },
  {
   "cell_type": "code",
   "execution_count": 56,
   "metadata": {},
   "outputs": [
    {
     "data": {
      "text/html": [
       "<div>\n",
       "<style scoped>\n",
       "    .dataframe tbody tr th:only-of-type {\n",
       "        vertical-align: middle;\n",
       "    }\n",
       "\n",
       "    .dataframe tbody tr th {\n",
       "        vertical-align: top;\n",
       "    }\n",
       "\n",
       "    .dataframe thead th {\n",
       "        text-align: right;\n",
       "    }\n",
       "</style>\n",
       "<table border=\"1\" class=\"dataframe\">\n",
       "  <thead>\n",
       "    <tr style=\"text-align: right;\">\n",
       "      <th></th>\n",
       "      <th>7331837</th>\n",
       "      <th>7204779</th>\n",
       "      <th>5853213</th>\n",
       "      <th>7759705</th>\n",
       "      <th>7551301</th>\n",
       "      <th>7228926</th>\n",
       "      <th>7270610</th>\n",
       "      <th>7481365</th>\n",
       "      <th>7539556</th>\n",
       "      <th>7307161</th>\n",
       "    </tr>\n",
       "    <tr>\n",
       "      <th>gw</th>\n",
       "      <th></th>\n",
       "      <th></th>\n",
       "      <th></th>\n",
       "      <th></th>\n",
       "      <th></th>\n",
       "      <th></th>\n",
       "      <th></th>\n",
       "      <th></th>\n",
       "      <th></th>\n",
       "      <th></th>\n",
       "    </tr>\n",
       "  </thead>\n",
       "  <tbody>\n",
       "    <tr>\n",
       "      <th>1</th>\n",
       "      <td>62</td>\n",
       "      <td>41</td>\n",
       "      <td>71</td>\n",
       "      <td>68</td>\n",
       "      <td>61</td>\n",
       "      <td>25</td>\n",
       "      <td>50</td>\n",
       "      <td>38</td>\n",
       "      <td>76</td>\n",
       "      <td>56</td>\n",
       "    </tr>\n",
       "    <tr>\n",
       "      <th>2</th>\n",
       "      <td>107</td>\n",
       "      <td>94</td>\n",
       "      <td>114</td>\n",
       "      <td>96</td>\n",
       "      <td>128</td>\n",
       "      <td>62</td>\n",
       "      <td>101</td>\n",
       "      <td>80</td>\n",
       "      <td>119</td>\n",
       "      <td>100</td>\n",
       "    </tr>\n",
       "    <tr>\n",
       "      <th>3</th>\n",
       "      <td>139</td>\n",
       "      <td>128</td>\n",
       "      <td>160</td>\n",
       "      <td>121</td>\n",
       "      <td>152</td>\n",
       "      <td>94</td>\n",
       "      <td>158</td>\n",
       "      <td>121</td>\n",
       "      <td>145</td>\n",
       "      <td>151</td>\n",
       "    </tr>\n",
       "    <tr>\n",
       "      <th>4</th>\n",
       "      <td>200</td>\n",
       "      <td>198</td>\n",
       "      <td>234</td>\n",
       "      <td>196</td>\n",
       "      <td>226</td>\n",
       "      <td>143</td>\n",
       "      <td>224</td>\n",
       "      <td>166</td>\n",
       "      <td>209</td>\n",
       "      <td>237</td>\n",
       "    </tr>\n",
       "    <tr>\n",
       "      <th>5</th>\n",
       "      <td>254</td>\n",
       "      <td>242</td>\n",
       "      <td>292</td>\n",
       "      <td>251</td>\n",
       "      <td>265</td>\n",
       "      <td>180</td>\n",
       "      <td>268</td>\n",
       "      <td>211</td>\n",
       "      <td>255</td>\n",
       "      <td>277</td>\n",
       "    </tr>\n",
       "  </tbody>\n",
       "</table>\n",
       "</div>"
      ],
      "text/plain": [
       "    7331837  7204779  5853213  7759705  7551301  7228926  7270610  7481365  \\\n",
       "gw                                                                           \n",
       "1        62       41       71       68       61       25       50       38   \n",
       "2       107       94      114       96      128       62      101       80   \n",
       "3       139      128      160      121      152       94      158      121   \n",
       "4       200      198      234      196      226      143      224      166   \n",
       "5       254      242      292      251      265      180      268      211   \n",
       "\n",
       "    7539556  7307161  \n",
       "gw                    \n",
       "1        76       56  \n",
       "2       119      100  \n",
       "3       145      151  \n",
       "4       209      237  \n",
       "5       255      277  "
      ]
     },
     "execution_count": 56,
     "metadata": {},
     "output_type": "execute_result"
    }
   ],
   "source": [
    "gameweek_totals_df.head()"
   ]
  },
  {
   "cell_type": "code",
   "execution_count": 63,
   "metadata": {},
   "outputs": [
    {
     "data": {
      "text/plain": [
       "<Axes: >"
      ]
     },
     "execution_count": 63,
     "metadata": {},
     "output_type": "execute_result"
    },
    {
     "data": {
      "image/png": "[encoded data removed]",
      "text/plain": [
       "<Figure size 640x480 with 1 Axes>"
      ]
     },
     "metadata": {},
     "output_type": "display_data"
    }
   ],
   "source": [
    "df = get_weeks_first_last(gameweek_totals_df.T)\n",
    "df.T.plot()"
   ]
  }
 ],
 "metadata": {
  "kernelspec": {
   "display_name": ".venv",
   "language": "python",
   "name": "python3"
  },
  "language_info": {
   "codemirror_mode": {
    "name": "ipython",
    "version": 3
   },
   "file_extension": ".py",
   "mimetype": "text/x-python",
   "name": "python",
   "nbconvert_exporter": "python",
   "pygments_lexer": "ipython3",
   "version": "3.12.3"
  }
 },
 "nbformat": 4,
 "nbformat_minor": 2
}
